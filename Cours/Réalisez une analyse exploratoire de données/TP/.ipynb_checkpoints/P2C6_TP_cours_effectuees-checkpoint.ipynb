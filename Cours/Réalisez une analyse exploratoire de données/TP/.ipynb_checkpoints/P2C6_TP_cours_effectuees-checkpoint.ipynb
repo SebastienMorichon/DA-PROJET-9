{
 "cells": [
  {
   "cell_type": "markdown",
   "metadata": {
    "id": "ulq65LCU5yX8"
   },
   "source": [
    "# Réalisez une ACP - Les données des cours"
   ]
  },
  {
   "cell_type": "markdown",
   "metadata": {
    "id": "tWJ8UFzD5yaX"
   },
   "source": [
    "# 1 Preliminary"
   ]
  },
  {
   "cell_type": "markdown",
   "metadata": {
    "id": "v-mHRiO45ycv"
   },
   "source": [
    "## 1.1 Context"
   ]
  },
  {
   "cell_type": "markdown",
   "metadata": {
    "id": "uNUtz32yARy3"
   },
   "source": [
    "Ce TP est en lien avec l'activité [Réalisez une ACP](https://openclassrooms.com/fr/courses/4525281-realisez-une-analyse-exploratoire-de-donnees/5345201-tp-realisez-une-acp), de la partie 2 du cours  [Réalisez une analyse exploratoire de données](https://openclassrooms.com/fr/courses/4525281-realisez-une-analyse-exploratoire-de-donnees).\n",
    "\n",
    "Nous allons travailler sur le *jeu de données des cours suivis*.\n",
    "\n",
    "Prenez le temps de bien **lire**, **comprendre** et **tester** le code ci dessous.\n",
    "\n",
    "<br>\n",
    "\n",
    "------------------------------\n",
    "\n",
    "<br>\n",
    "\n",
    "En cas de question, n'hésitez pas à nous adresser vos remarques ou suggestions via ce [lien](https://openclassrooms.zendesk.com/hc/fr/requests/new).\n",
    "\n",
    "<br>\n",
    "\n",
    "-------------------------\n",
    "\n",
    "<br>\n",
    "\n",
    "* version : 0.0.2\n",
    "* last update:  2022-08-03\n",
    "* author : [Alexandre Gazagnes](https://twitter.com/Alex_Gazagnes)\n",
    "\n",
    "<br>"
   ]
  },
  {
   "cell_type": "markdown",
   "metadata": {
    "id": "2gCimqaB5yex"
   },
   "source": [
    "## 1.2 Imports"
   ]
  },
  {
   "cell_type": "markdown",
   "metadata": {
    "id": "97JZ3oUpDLH1"
   },
   "source": [
    "Nous allons importer nos librairies : "
   ]
  },
  {
   "cell_type": "code",
   "execution_count": 1,
   "metadata": {
    "id": "GQguJyWL6B5F"
   },
   "outputs": [],
   "source": [
    "import pandas as pd\n",
    "import numpy as np\n",
    "\n",
    "from sklearn.decomposition import PCA\n",
    "from sklearn.preprocessing import StandardScaler\n",
    "\n",
    "import matplotlib.pyplot as plt\n",
    "from matplotlib.collections import LineCollection\n",
    "\n",
    "import seaborn as sns"
   ]
  },
  {
   "cell_type": "markdown",
   "metadata": {
    "id": "rlUV1ZAM5yhL"
   },
   "source": [
    "## 1.3 Graphics and Options"
   ]
  },
  {
   "cell_type": "markdown",
   "metadata": {
    "id": "Eh0VdPZtDL9a"
   },
   "source": [
    "On 'charge' `seaborn` : "
   ]
  },
  {
   "cell_type": "code",
   "execution_count": 2,
   "metadata": {
    "id": "qQfTzavN6CWs"
   },
   "outputs": [],
   "source": [
    "sns.set()"
   ]
  },
  {
   "cell_type": "markdown",
   "metadata": {
    "id": "phAzAAUg5yjO"
   },
   "source": [
    "## 1.4 Data"
   ]
  },
  {
   "cell_type": "markdown",
   "metadata": {
    "id": "Gwixs0mLDM3y"
   },
   "source": [
    "Nous allons maintenant charger les données. Pour ce faire vous pouvez les retrouver sur cette [page du cours](https://openclassrooms.com/fr/courses/4525281-realisez-une-analyse-exploratoire-de-donnees/5148885-telechargez-les-jeux-de-donnees-analyses-dans-ce-cours).\n",
    "\n",
    "<br>\n",
    "\n",
    "------------------------\n",
    "\n",
    "\n",
    "<br>\n",
    "\n",
    "\n",
    "Si vous utlisez Google Colab et que vous ne savez pas comment importer un fichier .csv, voici une [vidéo](https://youtu.be/6HFlwqK3oeo?t=171) à regarder à partir de 2:53\n",
    "\n",
    "<br>\n",
    "\n",
    "-------------------------------------\n",
    "\n",
    "<br>\n",
    "\n",
    "\n",
    "Importons notre fichier. Faisons attentions aux options comme `decimal` ou `index_col` : "
   ]
  },
  {
   "cell_type": "code",
   "execution_count": 3,
   "metadata": {
    "colab": {
     "base_uri": "https://localhost:8080/",
     "height": 324
    },
    "id": "nuOlaufp6CwR",
    "outputId": "ddb6440c-a370-4f65-d242-f76d13de7969"
   },
   "outputs": [
    {
     "data": {
      "text/html": [
       "<div>\n",
       "<style scoped>\n",
       "    .dataframe tbody tr th:only-of-type {\n",
       "        vertical-align: middle;\n",
       "    }\n",
       "\n",
       "    .dataframe tbody tr th {\n",
       "        vertical-align: top;\n",
       "    }\n",
       "\n",
       "    .dataframe thead th {\n",
       "        text-align: right;\n",
       "    }\n",
       "</style>\n",
       "<table border=\"1\" class=\"dataframe\">\n",
       "  <thead>\n",
       "    <tr style=\"text-align: right;\">\n",
       "      <th></th>\n",
       "      <th>inscription</th>\n",
       "      <th>progression</th>\n",
       "      <th>moyenneDeClasse</th>\n",
       "      <th>duree</th>\n",
       "      <th>difficulte</th>\n",
       "      <th>nbChapitres</th>\n",
       "      <th>ratioQuizEvaluation</th>\n",
       "      <th>nbEvaluations</th>\n",
       "      <th>derniereMiseAJour</th>\n",
       "      <th>idCours</th>\n",
       "    </tr>\n",
       "    <tr>\n",
       "      <th>titreCours</th>\n",
       "      <th></th>\n",
       "      <th></th>\n",
       "      <th></th>\n",
       "      <th></th>\n",
       "      <th></th>\n",
       "      <th></th>\n",
       "      <th></th>\n",
       "      <th></th>\n",
       "      <th></th>\n",
       "      <th></th>\n",
       "    </tr>\n",
       "  </thead>\n",
       "  <tbody>\n",
       "    <tr>\n",
       "      <th>Classez_et_segmentez_des_données_visuelles</th>\n",
       "      <td>29</td>\n",
       "      <td>34</td>\n",
       "      <td>NaN</td>\n",
       "      <td>15.0</td>\n",
       "      <td>3</td>\n",
       "      <td>11</td>\n",
       "      <td>0.666667</td>\n",
       "      <td>3</td>\n",
       "      <td>22</td>\n",
       "      <td>4470531</td>\n",
       "    </tr>\n",
       "    <tr>\n",
       "      <th>Initiez-vous_à_la_statistique_inférentielle</th>\n",
       "      <td>55</td>\n",
       "      <td>4</td>\n",
       "      <td>86.0</td>\n",
       "      <td>12.0</td>\n",
       "      <td>2</td>\n",
       "      <td>21</td>\n",
       "      <td>0.750000</td>\n",
       "      <td>4</td>\n",
       "      <td>8</td>\n",
       "      <td>4525306</td>\n",
       "    </tr>\n",
       "    <tr>\n",
       "      <th>Maîtrisez_les_bases_des_probabilités</th>\n",
       "      <td>60</td>\n",
       "      <td>100</td>\n",
       "      <td>NaN</td>\n",
       "      <td>NaN</td>\n",
       "      <td>1</td>\n",
       "      <td>1</td>\n",
       "      <td>NaN</td>\n",
       "      <td>0</td>\n",
       "      <td>89</td>\n",
       "      <td>4525296</td>\n",
       "    </tr>\n",
       "    <tr>\n",
       "      <th>Découvrez_les_librairies_Python_pour_la_Data_Science</th>\n",
       "      <td>64</td>\n",
       "      <td>64</td>\n",
       "      <td>96.0</td>\n",
       "      <td>10.0</td>\n",
       "      <td>2</td>\n",
       "      <td>8</td>\n",
       "      <td>0.000000</td>\n",
       "      <td>2</td>\n",
       "      <td>57</td>\n",
       "      <td>4452741</td>\n",
       "    </tr>\n",
       "    <tr>\n",
       "      <th>Devenez_mentor_sur_OpenClassrooms</th>\n",
       "      <td>76</td>\n",
       "      <td>100</td>\n",
       "      <td>91.0</td>\n",
       "      <td>6.0</td>\n",
       "      <td>1</td>\n",
       "      <td>12</td>\n",
       "      <td>1.000000</td>\n",
       "      <td>3</td>\n",
       "      <td>29</td>\n",
       "      <td>3595541</td>\n",
       "    </tr>\n",
       "  </tbody>\n",
       "</table>\n",
       "</div>"
      ],
      "text/plain": [
       "                                                    inscription  progression  \\\n",
       "titreCours                                                                     \n",
       "Classez_et_segmentez_des_données_visuelles                   29           34   \n",
       "Initiez-vous_à_la_statistique_inférentielle                  55            4   \n",
       "Maîtrisez_les_bases_des_probabilités                         60          100   \n",
       "Découvrez_les_librairies_Python_pour_la_Data_Sc...           64           64   \n",
       "Devenez_mentor_sur_OpenClassrooms                            76          100   \n",
       "\n",
       "                                                    moyenneDeClasse  duree  \\\n",
       "titreCours                                                                   \n",
       "Classez_et_segmentez_des_données_visuelles                      NaN   15.0   \n",
       "Initiez-vous_à_la_statistique_inférentielle                    86.0   12.0   \n",
       "Maîtrisez_les_bases_des_probabilités                            NaN    NaN   \n",
       "Découvrez_les_librairies_Python_pour_la_Data_Sc...             96.0   10.0   \n",
       "Devenez_mentor_sur_OpenClassrooms                              91.0    6.0   \n",
       "\n",
       "                                                    difficulte  nbChapitres  \\\n",
       "titreCours                                                                    \n",
       "Classez_et_segmentez_des_données_visuelles                   3           11   \n",
       "Initiez-vous_à_la_statistique_inférentielle                  2           21   \n",
       "Maîtrisez_les_bases_des_probabilités                         1            1   \n",
       "Découvrez_les_librairies_Python_pour_la_Data_Sc...           2            8   \n",
       "Devenez_mentor_sur_OpenClassrooms                            1           12   \n",
       "\n",
       "                                                    ratioQuizEvaluation  \\\n",
       "titreCours                                                                \n",
       "Classez_et_segmentez_des_données_visuelles                     0.666667   \n",
       "Initiez-vous_à_la_statistique_inférentielle                    0.750000   \n",
       "Maîtrisez_les_bases_des_probabilités                                NaN   \n",
       "Découvrez_les_librairies_Python_pour_la_Data_Sc...             0.000000   \n",
       "Devenez_mentor_sur_OpenClassrooms                              1.000000   \n",
       "\n",
       "                                                    nbEvaluations  \\\n",
       "titreCours                                                          \n",
       "Classez_et_segmentez_des_données_visuelles                      3   \n",
       "Initiez-vous_à_la_statistique_inférentielle                     4   \n",
       "Maîtrisez_les_bases_des_probabilités                            0   \n",
       "Découvrez_les_librairies_Python_pour_la_Data_Sc...              2   \n",
       "Devenez_mentor_sur_OpenClassrooms                               3   \n",
       "\n",
       "                                                    derniereMiseAJour  idCours  \n",
       "titreCours                                                                      \n",
       "Classez_et_segmentez_des_données_visuelles                         22  4470531  \n",
       "Initiez-vous_à_la_statistique_inférentielle                         8  4525306  \n",
       "Maîtrisez_les_bases_des_probabilités                               89  4525296  \n",
       "Découvrez_les_librairies_Python_pour_la_Data_Sc...                 57  4452741  \n",
       "Devenez_mentor_sur_OpenClassrooms                                  29  3595541  "
      ]
     },
     "execution_count": 3,
     "metadata": {},
     "output_type": "execute_result"
    }
   ],
   "source": [
    "df = pd.read_csv(\"Données/my_courses.csv\", decimal=\".\", index_col=0)\n",
    "df.head()"
   ]
  },
  {
   "cell_type": "markdown",
   "metadata": {
    "id": "3W8KOXQO5ypf"
   },
   "source": [
    "# 2 Data Preparation"
   ]
  },
  {
   "cell_type": "markdown",
   "metadata": {
    "id": "jLItqV7XDhiR"
   },
   "source": [
    "Avant de nous jeter dans le grand bain, nous allons devoir étudier et préparer un peu le terrain."
   ]
  },
  {
   "cell_type": "markdown",
   "metadata": {
    "id": "GbAAA1hl9tvo"
   },
   "source": [
    "## 2.1 Quick tour"
   ]
  },
  {
   "cell_type": "markdown",
   "metadata": {
    "id": "zNkwWo5ODoOO"
   },
   "source": [
    "Tout d'abord, faisons un rapide tour de nos données. Commençons par les afficher : "
   ]
  },
  {
   "cell_type": "code",
   "execution_count": 4,
   "metadata": {
    "id": "FoH7DT_69vYi"
   },
   "outputs": [
    {
     "data": {
      "text/html": [
       "<div>\n",
       "<style scoped>\n",
       "    .dataframe tbody tr th:only-of-type {\n",
       "        vertical-align: middle;\n",
       "    }\n",
       "\n",
       "    .dataframe tbody tr th {\n",
       "        vertical-align: top;\n",
       "    }\n",
       "\n",
       "    .dataframe thead th {\n",
       "        text-align: right;\n",
       "    }\n",
       "</style>\n",
       "<table border=\"1\" class=\"dataframe\">\n",
       "  <thead>\n",
       "    <tr style=\"text-align: right;\">\n",
       "      <th></th>\n",
       "      <th>inscription</th>\n",
       "      <th>progression</th>\n",
       "      <th>moyenneDeClasse</th>\n",
       "      <th>duree</th>\n",
       "      <th>difficulte</th>\n",
       "      <th>nbChapitres</th>\n",
       "      <th>ratioQuizEvaluation</th>\n",
       "      <th>nbEvaluations</th>\n",
       "      <th>derniereMiseAJour</th>\n",
       "      <th>idCours</th>\n",
       "    </tr>\n",
       "    <tr>\n",
       "      <th>titreCours</th>\n",
       "      <th></th>\n",
       "      <th></th>\n",
       "      <th></th>\n",
       "      <th></th>\n",
       "      <th></th>\n",
       "      <th></th>\n",
       "      <th></th>\n",
       "      <th></th>\n",
       "      <th></th>\n",
       "      <th></th>\n",
       "    </tr>\n",
       "  </thead>\n",
       "  <tbody>\n",
       "    <tr>\n",
       "      <th>Classez_et_segmentez_des_données_visuelles</th>\n",
       "      <td>29</td>\n",
       "      <td>34</td>\n",
       "      <td>NaN</td>\n",
       "      <td>15.0</td>\n",
       "      <td>3</td>\n",
       "      <td>11</td>\n",
       "      <td>0.666667</td>\n",
       "      <td>3</td>\n",
       "      <td>22</td>\n",
       "      <td>4470531</td>\n",
       "    </tr>\n",
       "    <tr>\n",
       "      <th>Initiez-vous_à_la_statistique_inférentielle</th>\n",
       "      <td>55</td>\n",
       "      <td>4</td>\n",
       "      <td>86.0</td>\n",
       "      <td>12.0</td>\n",
       "      <td>2</td>\n",
       "      <td>21</td>\n",
       "      <td>0.750000</td>\n",
       "      <td>4</td>\n",
       "      <td>8</td>\n",
       "      <td>4525306</td>\n",
       "    </tr>\n",
       "    <tr>\n",
       "      <th>Maîtrisez_les_bases_des_probabilités</th>\n",
       "      <td>60</td>\n",
       "      <td>100</td>\n",
       "      <td>NaN</td>\n",
       "      <td>NaN</td>\n",
       "      <td>1</td>\n",
       "      <td>1</td>\n",
       "      <td>NaN</td>\n",
       "      <td>0</td>\n",
       "      <td>89</td>\n",
       "      <td>4525296</td>\n",
       "    </tr>\n",
       "    <tr>\n",
       "      <th>Découvrez_les_librairies_Python_pour_la_Data_Science</th>\n",
       "      <td>64</td>\n",
       "      <td>64</td>\n",
       "      <td>96.0</td>\n",
       "      <td>10.0</td>\n",
       "      <td>2</td>\n",
       "      <td>8</td>\n",
       "      <td>0.000000</td>\n",
       "      <td>2</td>\n",
       "      <td>57</td>\n",
       "      <td>4452741</td>\n",
       "    </tr>\n",
       "    <tr>\n",
       "      <th>Devenez_mentor_sur_OpenClassrooms</th>\n",
       "      <td>76</td>\n",
       "      <td>100</td>\n",
       "      <td>91.0</td>\n",
       "      <td>6.0</td>\n",
       "      <td>1</td>\n",
       "      <td>12</td>\n",
       "      <td>1.000000</td>\n",
       "      <td>3</td>\n",
       "      <td>29</td>\n",
       "      <td>3595541</td>\n",
       "    </tr>\n",
       "  </tbody>\n",
       "</table>\n",
       "</div>"
      ],
      "text/plain": [
       "                                                    inscription  progression  \\\n",
       "titreCours                                                                     \n",
       "Classez_et_segmentez_des_données_visuelles                   29           34   \n",
       "Initiez-vous_à_la_statistique_inférentielle                  55            4   \n",
       "Maîtrisez_les_bases_des_probabilités                         60          100   \n",
       "Découvrez_les_librairies_Python_pour_la_Data_Sc...           64           64   \n",
       "Devenez_mentor_sur_OpenClassrooms                            76          100   \n",
       "\n",
       "                                                    moyenneDeClasse  duree  \\\n",
       "titreCours                                                                   \n",
       "Classez_et_segmentez_des_données_visuelles                      NaN   15.0   \n",
       "Initiez-vous_à_la_statistique_inférentielle                    86.0   12.0   \n",
       "Maîtrisez_les_bases_des_probabilités                            NaN    NaN   \n",
       "Découvrez_les_librairies_Python_pour_la_Data_Sc...             96.0   10.0   \n",
       "Devenez_mentor_sur_OpenClassrooms                              91.0    6.0   \n",
       "\n",
       "                                                    difficulte  nbChapitres  \\\n",
       "titreCours                                                                    \n",
       "Classez_et_segmentez_des_données_visuelles                   3           11   \n",
       "Initiez-vous_à_la_statistique_inférentielle                  2           21   \n",
       "Maîtrisez_les_bases_des_probabilités                         1            1   \n",
       "Découvrez_les_librairies_Python_pour_la_Data_Sc...           2            8   \n",
       "Devenez_mentor_sur_OpenClassrooms                            1           12   \n",
       "\n",
       "                                                    ratioQuizEvaluation  \\\n",
       "titreCours                                                                \n",
       "Classez_et_segmentez_des_données_visuelles                     0.666667   \n",
       "Initiez-vous_à_la_statistique_inférentielle                    0.750000   \n",
       "Maîtrisez_les_bases_des_probabilités                                NaN   \n",
       "Découvrez_les_librairies_Python_pour_la_Data_Sc...             0.000000   \n",
       "Devenez_mentor_sur_OpenClassrooms                              1.000000   \n",
       "\n",
       "                                                    nbEvaluations  \\\n",
       "titreCours                                                          \n",
       "Classez_et_segmentez_des_données_visuelles                      3   \n",
       "Initiez-vous_à_la_statistique_inférentielle                     4   \n",
       "Maîtrisez_les_bases_des_probabilités                            0   \n",
       "Découvrez_les_librairies_Python_pour_la_Data_Sc...              2   \n",
       "Devenez_mentor_sur_OpenClassrooms                               3   \n",
       "\n",
       "                                                    derniereMiseAJour  idCours  \n",
       "titreCours                                                                      \n",
       "Classez_et_segmentez_des_données_visuelles                         22  4470531  \n",
       "Initiez-vous_à_la_statistique_inférentielle                         8  4525306  \n",
       "Maîtrisez_les_bases_des_probabilités                               89  4525296  \n",
       "Découvrez_les_librairies_Python_pour_la_Data_Sc...                 57  4452741  \n",
       "Devenez_mentor_sur_OpenClassrooms                                  29  3595541  "
      ]
     },
     "execution_count": 4,
     "metadata": {},
     "output_type": "execute_result"
    }
   ],
   "source": [
    "df.head()"
   ]
  },
  {
   "cell_type": "code",
   "execution_count": 5,
   "metadata": {
    "id": "ZB9bktAO9whM"
   },
   "outputs": [
    {
     "data": {
      "text/html": [
       "<div>\n",
       "<style scoped>\n",
       "    .dataframe tbody tr th:only-of-type {\n",
       "        vertical-align: middle;\n",
       "    }\n",
       "\n",
       "    .dataframe tbody tr th {\n",
       "        vertical-align: top;\n",
       "    }\n",
       "\n",
       "    .dataframe thead th {\n",
       "        text-align: right;\n",
       "    }\n",
       "</style>\n",
       "<table border=\"1\" class=\"dataframe\">\n",
       "  <thead>\n",
       "    <tr style=\"text-align: right;\">\n",
       "      <th></th>\n",
       "      <th>inscription</th>\n",
       "      <th>progression</th>\n",
       "      <th>moyenneDeClasse</th>\n",
       "      <th>duree</th>\n",
       "      <th>difficulte</th>\n",
       "      <th>nbChapitres</th>\n",
       "      <th>ratioQuizEvaluation</th>\n",
       "      <th>nbEvaluations</th>\n",
       "      <th>derniereMiseAJour</th>\n",
       "      <th>idCours</th>\n",
       "    </tr>\n",
       "    <tr>\n",
       "      <th>titreCours</th>\n",
       "      <th></th>\n",
       "      <th></th>\n",
       "      <th></th>\n",
       "      <th></th>\n",
       "      <th></th>\n",
       "      <th></th>\n",
       "      <th></th>\n",
       "      <th></th>\n",
       "      <th></th>\n",
       "      <th></th>\n",
       "    </tr>\n",
       "  </thead>\n",
       "  <tbody>\n",
       "    <tr>\n",
       "      <th>Apprenez_à_programmer_en_Python</th>\n",
       "      <td>349</td>\n",
       "      <td>4</td>\n",
       "      <td>84.0</td>\n",
       "      <td>40.0</td>\n",
       "      <td>3</td>\n",
       "      <td>38</td>\n",
       "      <td>0.500000</td>\n",
       "      <td>4</td>\n",
       "      <td>151</td>\n",
       "      <td>235344</td>\n",
       "    </tr>\n",
       "    <tr>\n",
       "      <th>Réalisez_des_calculs_distribués_sur_des_données_massives</th>\n",
       "      <td>377</td>\n",
       "      <td>34</td>\n",
       "      <td>85.0</td>\n",
       "      <td>20.0</td>\n",
       "      <td>2</td>\n",
       "      <td>15</td>\n",
       "      <td>0.500000</td>\n",
       "      <td>4</td>\n",
       "      <td>91</td>\n",
       "      <td>4297166</td>\n",
       "    </tr>\n",
       "    <tr>\n",
       "      <th>Évaluez_et_améliorez_les_performances_d'un_modèle_de_machine_learning</th>\n",
       "      <td>412</td>\n",
       "      <td>58</td>\n",
       "      <td>90.0</td>\n",
       "      <td>10.0</td>\n",
       "      <td>2</td>\n",
       "      <td>8</td>\n",
       "      <td>0.333333</td>\n",
       "      <td>3</td>\n",
       "      <td>18</td>\n",
       "      <td>4297211</td>\n",
       "    </tr>\n",
       "    <tr>\n",
       "      <th>Créez_un_cours_sur_OpenClassrooms</th>\n",
       "      <td>439</td>\n",
       "      <td>100</td>\n",
       "      <td>NaN</td>\n",
       "      <td>1.0</td>\n",
       "      <td>1</td>\n",
       "      <td>10</td>\n",
       "      <td>NaN</td>\n",
       "      <td>0</td>\n",
       "      <td>148</td>\n",
       "      <td>2067781</td>\n",
       "    </tr>\n",
       "    <tr>\n",
       "      <th>Développez_votre_site_web_avec_le_framework_Symfony</th>\n",
       "      <td>713</td>\n",
       "      <td>2</td>\n",
       "      <td>90.0</td>\n",
       "      <td>30.0</td>\n",
       "      <td>2</td>\n",
       "      <td>27</td>\n",
       "      <td>0.714286</td>\n",
       "      <td>7</td>\n",
       "      <td>64</td>\n",
       "      <td>3619856</td>\n",
       "    </tr>\n",
       "  </tbody>\n",
       "</table>\n",
       "</div>"
      ],
      "text/plain": [
       "                                                    inscription  progression  \\\n",
       "titreCours                                                                     \n",
       "Apprenez_à_programmer_en_Python                             349            4   \n",
       "Réalisez_des_calculs_distribués_sur_des_données...          377           34   \n",
       "Évaluez_et_améliorez_les_performances_d'un_modè...          412           58   \n",
       "Créez_un_cours_sur_OpenClassrooms                           439          100   \n",
       "Développez_votre_site_web_avec_le_framework_Sym...          713            2   \n",
       "\n",
       "                                                    moyenneDeClasse  duree  \\\n",
       "titreCours                                                                   \n",
       "Apprenez_à_programmer_en_Python                                84.0   40.0   \n",
       "Réalisez_des_calculs_distribués_sur_des_données...             85.0   20.0   \n",
       "Évaluez_et_améliorez_les_performances_d'un_modè...             90.0   10.0   \n",
       "Créez_un_cours_sur_OpenClassrooms                               NaN    1.0   \n",
       "Développez_votre_site_web_avec_le_framework_Sym...             90.0   30.0   \n",
       "\n",
       "                                                    difficulte  nbChapitres  \\\n",
       "titreCours                                                                    \n",
       "Apprenez_à_programmer_en_Python                              3           38   \n",
       "Réalisez_des_calculs_distribués_sur_des_données...           2           15   \n",
       "Évaluez_et_améliorez_les_performances_d'un_modè...           2            8   \n",
       "Créez_un_cours_sur_OpenClassrooms                            1           10   \n",
       "Développez_votre_site_web_avec_le_framework_Sym...           2           27   \n",
       "\n",
       "                                                    ratioQuizEvaluation  \\\n",
       "titreCours                                                                \n",
       "Apprenez_à_programmer_en_Python                                0.500000   \n",
       "Réalisez_des_calculs_distribués_sur_des_données...             0.500000   \n",
       "Évaluez_et_améliorez_les_performances_d'un_modè...             0.333333   \n",
       "Créez_un_cours_sur_OpenClassrooms                                   NaN   \n",
       "Développez_votre_site_web_avec_le_framework_Sym...             0.714286   \n",
       "\n",
       "                                                    nbEvaluations  \\\n",
       "titreCours                                                          \n",
       "Apprenez_à_programmer_en_Python                                 4   \n",
       "Réalisez_des_calculs_distribués_sur_des_données...              4   \n",
       "Évaluez_et_améliorez_les_performances_d'un_modè...              3   \n",
       "Créez_un_cours_sur_OpenClassrooms                               0   \n",
       "Développez_votre_site_web_avec_le_framework_Sym...              7   \n",
       "\n",
       "                                                    derniereMiseAJour  idCours  \n",
       "titreCours                                                                      \n",
       "Apprenez_à_programmer_en_Python                                   151   235344  \n",
       "Réalisez_des_calculs_distribués_sur_des_données...                 91  4297166  \n",
       "Évaluez_et_améliorez_les_performances_d'un_modè...                 18  4297211  \n",
       "Créez_un_cours_sur_OpenClassrooms                                 148  2067781  \n",
       "Développez_votre_site_web_avec_le_framework_Sym...                 64  3619856  "
      ]
     },
     "execution_count": 5,
     "metadata": {},
     "output_type": "execute_result"
    }
   ],
   "source": [
    "df.tail()"
   ]
  },
  {
   "cell_type": "markdown",
   "metadata": {
    "id": "B1TCCVMiDvup"
   },
   "source": [
    "Quelle est la dimension de notre dataframe? "
   ]
  },
  {
   "cell_type": "code",
   "execution_count": 6,
   "metadata": {
    "id": "Qj6jjInk9xX0"
   },
   "outputs": [
    {
     "data": {
      "text/plain": [
       "(19, 10)"
      ]
     },
     "execution_count": 6,
     "metadata": {},
     "output_type": "execute_result"
    }
   ],
   "source": [
    "df.shape"
   ]
  },
  {
   "cell_type": "markdown",
   "metadata": {
    "id": "jXSudJ3rDu9N"
   },
   "source": [
    "La méthode `info` nous donne des indications globales : "
   ]
  },
  {
   "cell_type": "code",
   "execution_count": 7,
   "metadata": {
    "id": "Wnzh1nbI9zEC"
   },
   "outputs": [
    {
     "name": "stdout",
     "output_type": "stream",
     "text": [
      "<class 'pandas.core.frame.DataFrame'>\n",
      "Index: 19 entries, Classez_et_segmentez_des_données_visuelles to Développez_votre_site_web_avec_le_framework_Symfony\n",
      "Data columns (total 10 columns):\n",
      " #   Column               Non-Null Count  Dtype  \n",
      "---  ------               --------------  -----  \n",
      " 0   inscription          19 non-null     int64  \n",
      " 1   progression          19 non-null     int64  \n",
      " 2   moyenneDeClasse      15 non-null     float64\n",
      " 3   duree                18 non-null     float64\n",
      " 4   difficulte           19 non-null     int64  \n",
      " 5   nbChapitres          19 non-null     int64  \n",
      " 6   ratioQuizEvaluation  16 non-null     float64\n",
      " 7   nbEvaluations        19 non-null     int64  \n",
      " 8   derniereMiseAJour    19 non-null     int64  \n",
      " 9   idCours              19 non-null     int64  \n",
      "dtypes: float64(3), int64(7)\n",
      "memory usage: 1.6+ KB\n"
     ]
    }
   ],
   "source": [
    "df.info()"
   ]
  },
  {
   "cell_type": "markdown",
   "metadata": {
    "id": "NPvmwuYRD6Ep"
   },
   "source": [
    "Quel est le % de valeurs manquantes par colonne ? "
   ]
  },
  {
   "cell_type": "code",
   "execution_count": null,
   "metadata": {
    "id": "nS08CAZI90md"
   },
   "outputs": [],
   "source": [
    "df.isna().mean()"
   ]
  },
  {
   "cell_type": "markdown",
   "metadata": {
    "id": "KhcLscVND96u"
   },
   "source": [
    "Y a-t-il des lignes en double ? "
   ]
  },
  {
   "cell_type": "code",
   "execution_count": null,
   "metadata": {
    "colab": {
     "base_uri": "https://localhost:8080/",
     "height": 166
    },
    "id": "QFtmUC7B96Tt",
    "outputId": "65f2289f-6390-4a91-999e-942ee5fcac12"
   },
   "outputs": [
    {
     "ename": "NameError",
     "evalue": "ignored",
     "output_type": "error",
     "traceback": [
      "\u001b[0;31m---------------------------------------------------------------------------\u001b[0m",
      "\u001b[0;31mNameError\u001b[0m                                 Traceback (most recent call last)",
      "\u001b[0;32m<ipython-input-1-6e764a0154be>\u001b[0m in \u001b[0;36m<module>\u001b[0;34m\u001b[0m\n\u001b[0;32m----> 1\u001b[0;31m \u001b[0mdf\u001b[0m\u001b[0;34m.\u001b[0m\u001b[0mduplicated\u001b[0m\u001b[0;34m(\u001b[0m\u001b[0;34m)\u001b[0m\u001b[0;34m.\u001b[0m\u001b[0msum\u001b[0m\u001b[0;34m(\u001b[0m\u001b[0;34m)\u001b[0m\u001b[0;34m\u001b[0m\u001b[0;34m\u001b[0m\u001b[0m\n\u001b[0m",
      "\u001b[0;31mNameError\u001b[0m: name 'df' is not defined"
     ]
    }
   ],
   "source": [
    "df.duplicated().sum()"
   ]
  },
  {
   "cell_type": "markdown",
   "metadata": {
    "id": "wPxEnq7cEBEs"
   },
   "source": [
    "Combien y a-t-il de valeurs différentes par colonne ? "
   ]
  },
  {
   "cell_type": "code",
   "execution_count": null,
   "metadata": {
    "colab": {
     "base_uri": "https://localhost:8080/",
     "height": 166
    },
    "id": "F-trAkxw92pn",
    "outputId": "17cc3f4a-35cd-4e80-8d74-f677e313779d"
   },
   "outputs": [
    {
     "ename": "NameError",
     "evalue": "ignored",
     "output_type": "error",
     "traceback": [
      "\u001b[0;31m---------------------------------------------------------------------------\u001b[0m",
      "\u001b[0;31mNameError\u001b[0m                                 Traceback (most recent call last)",
      "\u001b[0;32m<ipython-input-2-e767f2043ea1>\u001b[0m in \u001b[0;36m<module>\u001b[0;34m\u001b[0m\n\u001b[0;32m----> 1\u001b[0;31m \u001b[0mdf\u001b[0m\u001b[0;34m.\u001b[0m\u001b[0mnunique\u001b[0m\u001b[0;34m(\u001b[0m\u001b[0;34m)\u001b[0m\u001b[0;34m\u001b[0m\u001b[0;34m\u001b[0m\u001b[0m\n\u001b[0m",
      "\u001b[0;31mNameError\u001b[0m: name 'df' is not defined"
     ]
    }
   ],
   "source": [
    "df.nunique()"
   ]
  },
  {
   "cell_type": "markdown",
   "metadata": {
    "id": "EzJEgmTjEH3I"
   },
   "source": [
    "Enfin la methode `describe` nous donne une idée de la dispersion globale de nos données : "
   ]
  },
  {
   "cell_type": "code",
   "execution_count": null,
   "metadata": {
    "id": "e19s2GT594rf"
   },
   "outputs": [],
   "source": [
    "df.describe()"
   ]
  },
  {
   "cell_type": "markdown",
   "metadata": {
    "id": "bQVXpNdo5yry"
   },
   "source": [
    "## 2.2 Data selection"
   ]
  },
  {
   "cell_type": "markdown",
   "metadata": {
    "id": "H2IDFQHmEO_B"
   },
   "source": [
    "Nous avons une idée *globale* de nos données. Faisons maintenant un peu de *sélection*. On rappelle que notre dataframe a pour dimension : "
   ]
  },
  {
   "cell_type": "code",
   "execution_count": null,
   "metadata": {
    "id": "ybC7e4R29sZd"
   },
   "outputs": [],
   "source": [
    "df.shape"
   ]
  },
  {
   "cell_type": "markdown",
   "metadata": {
    "id": "-xmE2ir3EcsA"
   },
   "source": [
    "Nous allons sélectionner d'abord que certaines colones : "
   ]
  },
  {
   "cell_type": "code",
   "execution_count": null,
   "metadata": {
    "id": "SvI8MX3h9Od4"
   },
   "outputs": [],
   "source": [
    "cols = [\"inscription\",\"progression\",\"moyenneDeClasse\",\"duree\",\"difficulte\",\"nbChapitres\",\"ratioQuizEvaluation\",\"nbEvaluations\"]"
   ]
  },
  {
   "cell_type": "code",
   "execution_count": null,
   "metadata": {
    "id": "58R8cylU7y_J"
   },
   "outputs": [],
   "source": [
    "df = df[cols]\n",
    "df.head()"
   ]
  },
  {
   "cell_type": "markdown",
   "metadata": {
    "id": "ldz6gUDbEh6-"
   },
   "source": [
    "Notre dataframe a maintenant une dimension de : "
   ]
  },
  {
   "cell_type": "code",
   "execution_count": null,
   "metadata": {
    "id": "UMUiI2yy-BJO"
   },
   "outputs": [],
   "source": [
    "df.shape"
   ]
  },
  {
   "cell_type": "markdown",
   "metadata": {
    "id": "2jUueGsc8KzY"
   },
   "source": [
    "## 2.3 Cleaning"
   ]
  },
  {
   "cell_type": "markdown",
   "metadata": {
    "id": "DqwdP_1NElwD"
   },
   "source": [
    "Traitons les valeurs manquantes. On rappelle que : "
   ]
  },
  {
   "cell_type": "code",
   "execution_count": null,
   "metadata": {
    "id": "s7deucZY8Hxe"
   },
   "outputs": [],
   "source": [
    "df.isna().mean()"
   ]
  },
  {
   "cell_type": "markdown",
   "metadata": {
    "id": "CyNR5nBjEpZ1"
   },
   "source": [
    "Nous allons remplacer les valeurs manquantes par la valeur moyenne de chaque colonne. \n",
    "\n",
    "<br>\n",
    "\n",
    "-------------------------------\n",
    "\n",
    "<br>\n",
    "\n",
    "\n",
    "-- **ATTENTION** -- \n",
    "\n",
    "Cela n'est peut-etre pas la méthode la plus **solide** ou la plus **sérieuse**. En effet, le traitement des valeurs manquantes peut être un sujet **sensible** et **délicat**. Cela requiert une attention toute particulière! \n",
    "\n",
    "Dans notre cas, nous pouvons simplement imputer les valeurs manquantes par la moyenne. Cela n'est pas la meilleure chose à faire, mais c'est la plus **rapide**!\n",
    "\n",
    "\n",
    "<br>\n",
    "\n",
    "___________________________________\n",
    "\n",
    "\n",
    "<br>\n"
   ]
  },
  {
   "cell_type": "code",
   "execution_count": null,
   "metadata": {
    "id": "hAJLqvRv7_ih"
   },
   "outputs": [],
   "source": [
    "df = df.fillna(df.mean())\n",
    "df.isna().mean()"
   ]
  },
  {
   "cell_type": "markdown",
   "metadata": {
    "id": "t_vVaCp28OWB"
   },
   "source": [
    "## 2.4 Data Split"
   ]
  },
  {
   "cell_type": "markdown",
   "metadata": {
    "id": "a-uhoEjPE4Wr"
   },
   "source": [
    "Nous allons ensuite séparer nos données. D'un coté `X` la matrice des données : "
   ]
  },
  {
   "cell_type": "code",
   "execution_count": null,
   "metadata": {
    "id": "6tALxpiX8A8y"
   },
   "outputs": [],
   "source": [
    "X = df.values\n",
    "X[:5]"
   ]
  },
  {
   "cell_type": "markdown",
   "metadata": {
    "id": "-a9HhSt8E_YC"
   },
   "source": [
    "C'est bien un `np.array` : "
   ]
  },
  {
   "cell_type": "code",
   "execution_count": null,
   "metadata": {
    "id": "hVX79pBy9hOh"
   },
   "outputs": [],
   "source": [
    "type(X)"
   ]
  },
  {
   "cell_type": "markdown",
   "metadata": {
    "id": "26AJBPxLFCuh"
   },
   "source": [
    "La forme de cette matrice est conforme à nos attentes : "
   ]
  },
  {
   "cell_type": "code",
   "execution_count": null,
   "metadata": {
    "id": "HGd6IsUG9pj3"
   },
   "outputs": [],
   "source": [
    "X.shape"
   ]
  },
  {
   "cell_type": "markdown",
   "metadata": {
    "id": "F_Me-VVu8NSO"
   },
   "source": [
    "Nous enregistrons les noms de nos cours dans une variable `names` : "
   ]
  },
  {
   "cell_type": "code",
   "execution_count": null,
   "metadata": {
    "id": "LOiHwiEE8B69"
   },
   "outputs": [],
   "source": [
    "names = df.index\n",
    "names"
   ]
  },
  {
   "cell_type": "markdown",
   "metadata": {
    "id": "xViIE84dFS4M"
   },
   "source": [
    "et nos colonnes, nos features, dans une variable `features` : "
   ]
  },
  {
   "cell_type": "code",
   "execution_count": null,
   "metadata": {
    "id": "QgmeiRGr8DCM"
   },
   "outputs": [],
   "source": [
    "features = df.columns\n",
    "features"
   ]
  },
  {
   "cell_type": "markdown",
   "metadata": {
    "id": "5wgpfsxp8RtC"
   },
   "source": [
    "# 3 About PCA"
   ]
  },
  {
   "cell_type": "markdown",
   "metadata": {
    "id": "wFk637ZsFYh_"
   },
   "source": [
    "Nous pouvons - *enfin* - commencer notre ACP, ou notre PCA ! "
   ]
  },
  {
   "cell_type": "markdown",
   "metadata": {
    "id": "2sC9qaUN8UN4"
   },
   "source": [
    "## 3.1 Scaling"
   ]
  },
  {
   "cell_type": "markdown",
   "metadata": {
    "id": "hmRqS8eRFdso"
   },
   "source": [
    "Commençons par scaler les données. On instancie : "
   ]
  },
  {
   "cell_type": "code",
   "execution_count": null,
   "metadata": {
    "id": "mlIoi2TX-Ufj"
   },
   "outputs": [],
   "source": [
    "scaler = StandardScaler()"
   ]
  },
  {
   "cell_type": "markdown",
   "metadata": {
    "id": "XMRRBJcnFlxC"
   },
   "source": [
    "On fit : "
   ]
  },
  {
   "cell_type": "code",
   "execution_count": null,
   "metadata": {
    "id": "9rbhA6PXFl_D"
   },
   "outputs": [],
   "source": [
    "scaler.fit(X)"
   ]
  },
  {
   "cell_type": "markdown",
   "metadata": {
    "id": "N5nyQM40Foul"
   },
   "source": [
    "On transforme : "
   ]
  },
  {
   "cell_type": "code",
   "execution_count": null,
   "metadata": {
    "id": "FUQz4MQ58Vuf"
   },
   "outputs": [],
   "source": [
    "X_scaled = scaler.transform(X)\n",
    "X_scaled[:5]"
   ]
  },
  {
   "cell_type": "markdown",
   "metadata": {
    "id": "M3REOyTkFtXh"
   },
   "source": [
    "Rappelons qu'on peut faire les 2 opérations en une seule : "
   ]
  },
  {
   "cell_type": "code",
   "execution_count": null,
   "metadata": {
    "id": "_yNkVwJtFtjN"
   },
   "outputs": [],
   "source": [
    "X_scaled = scaler.fit_transform(X)"
   ]
  },
  {
   "cell_type": "markdown",
   "metadata": {
    "id": "j8KiQSL9F1q8"
   },
   "source": [
    "On espère avoir une moyenne à 0 et un écart type à 1 : "
   ]
  },
  {
   "cell_type": "code",
   "execution_count": null,
   "metadata": {
    "id": "g_OJHK718TvL"
   },
   "outputs": [],
   "source": [
    "idx = [\"mean\", \"std\"]\n",
    "\n",
    "pd.DataFrame(X_scaled).describe().round(2).loc[idx, :]"
   ]
  },
  {
   "cell_type": "markdown",
   "metadata": {
    "id": "gmeU74ml8fI4"
   },
   "source": [
    "## 3.2 PCA"
   ]
  },
  {
   "cell_type": "markdown",
   "metadata": {
    "id": "KQTyHvZwGHis"
   },
   "source": [
    "Nous allons travailler que sur les 6 premières composantes : "
   ]
  },
  {
   "cell_type": "code",
   "execution_count": null,
   "metadata": {
    "id": "5ils1o5f8X4Q"
   },
   "outputs": [],
   "source": [
    "n_components = 6"
   ]
  },
  {
   "cell_type": "markdown",
   "metadata": {
    "id": "qcDjEWLZGK86"
   },
   "source": [
    "On instancie notre ACP : "
   ]
  },
  {
   "cell_type": "code",
   "execution_count": null,
   "metadata": {
    "id": "-5-8Ujeb8ZNr"
   },
   "outputs": [],
   "source": [
    "pca = PCA(n_components=n_components)"
   ]
  },
  {
   "cell_type": "markdown",
   "metadata": {
    "id": "mnU1sDZvGOo6"
   },
   "source": [
    "On l'entraine sur les données scalées : "
   ]
  },
  {
   "cell_type": "code",
   "execution_count": null,
   "metadata": {
    "id": "DTjhlLiL-l7U"
   },
   "outputs": [],
   "source": [
    "pca.fit(X_scaled)"
   ]
  },
  {
   "cell_type": "markdown",
   "metadata": {
    "id": "djz1GD-l8hif"
   },
   "source": [
    "## 3.3 Explained variance & scree plot"
   ]
  },
  {
   "cell_type": "markdown",
   "metadata": {
    "id": "4n5P_EQfGVPn"
   },
   "source": [
    "Intéressons nous maintenant à la variance *captée* par chaque nouvelle composante. Grace à `scikit-learn` on peut utiliser l'attribut `explained_variance_ratio_` : "
   ]
  },
  {
   "cell_type": "code",
   "execution_count": null,
   "metadata": {
    "id": "MfvlVuch-t2J"
   },
   "outputs": [],
   "source": [
    "pca.explained_variance_ratio_"
   ]
  },
  {
   "cell_type": "markdown",
   "metadata": {
    "id": "P9_KYj-NGioD"
   },
   "source": [
    "Ici la 1ère composante *capte* 44% de la variance de nos données initiales, la 2ème 20% etc etc."
   ]
  },
  {
   "cell_type": "markdown",
   "metadata": {
    "id": "RtN1h3QPGtYe"
   },
   "source": [
    "Enregistrons cela dans une variable : "
   ]
  },
  {
   "cell_type": "code",
   "execution_count": null,
   "metadata": {
    "id": "FWcHhdOF8i4_"
   },
   "outputs": [],
   "source": [
    "scree = (pca.explained_variance_ratio_*100).round(2)\n",
    "scree"
   ]
  },
  {
   "cell_type": "markdown",
   "metadata": {
    "id": "_Ah1nBAFGwht"
   },
   "source": [
    "Les 2 premières composantes *captent* donc `44+20 = 66%` de la variance, les 3 premières `44+20+13 = 77%` de la variance etc etc.\n",
    "\n",
    "Dans le jargon, cela s'appelle une *somme cumulée*. Et pour faire une somme cumulée `numpy` dispose de la fonction `cumsum` : "
   ]
  },
  {
   "cell_type": "code",
   "execution_count": null,
   "metadata": {
    "id": "wTNKE3Iu8l7w"
   },
   "outputs": [],
   "source": [
    "scree_cum = scree.cumsum().round()\n",
    "scree_cum"
   ]
  },
  {
   "cell_type": "markdown",
   "metadata": {
    "id": "Azu71-QcHMdg"
   },
   "source": [
    "Définisons ensuite une variable avec la liste de nos composantes : "
   ]
  },
  {
   "cell_type": "code",
   "execution_count": null,
   "metadata": {
    "id": "ZvVsOwIr_HH-"
   },
   "outputs": [],
   "source": [
    "x_list = range(1, n_components+1)\n",
    "list(x_list)"
   ]
  },
  {
   "cell_type": "markdown",
   "metadata": {
    "id": "mOrtj3uCHUJh"
   },
   "source": [
    "On peut enfin l'afficher de façon graphique : "
   ]
  },
  {
   "cell_type": "code",
   "execution_count": null,
   "metadata": {
    "id": "7tFT1tvS8jVF"
   },
   "outputs": [],
   "source": [
    "plt.bar(x_list, scree)\n",
    "plt.plot(x_list, scree_cum,c=\"red\",marker='o')\n",
    "plt.xlabel(\"rang de l'axe d'inertie\")\n",
    "plt.ylabel(\"pourcentage d'inertie\")\n",
    "plt.title(\"Eboulis des valeurs propres\")\n",
    "plt.show(block=False)"
   ]
  },
  {
   "cell_type": "markdown",
   "metadata": {
    "id": "Rnv5i4QyYpWk"
   },
   "source": [
    "On a en bleu la variance de chaque nouvelle composante, et en rouge la variance cumulée."
   ]
  },
  {
   "cell_type": "markdown",
   "metadata": {
    "id": "mwpCEeloHeQO"
   },
   "source": [
    "On voit ici que près de 80% de la variance est comprise dans les 3 premières composantes, et près de 90% dans les 4 premières. "
   ]
  },
  {
   "cell_type": "markdown",
   "metadata": {
    "id": "URbdIMsj8zWl"
   },
   "source": [
    "## 3.4 Components"
   ]
  },
  {
   "cell_type": "markdown",
   "metadata": {
    "id": "VsVg2hSwHreN"
   },
   "source": [
    "Intéressons nous maintenant à nos fameuses composantes. Nous avons dit dans le cours que c'est bien par un calcul que l'on obtient ces composantes. \n",
    "\n",
    "La formule de ce calcul nous est donnée par l'attribut `components_`. Cette variable est généralement nommée `pcs` : "
   ]
  },
  {
   "cell_type": "code",
   "execution_count": null,
   "metadata": {
    "id": "GSxN5_aA81fn"
   },
   "outputs": [],
   "source": [
    "pcs = pca.components_\n",
    "pcs"
   ]
  },
  {
   "cell_type": "markdown",
   "metadata": {
    "id": "7JbXWzNWIBSK"
   },
   "source": [
    "Affichons la même chose mais version `pandas` : "
   ]
  },
  {
   "cell_type": "code",
   "execution_count": null,
   "metadata": {
    "id": "HLYtZl7z_kk5"
   },
   "outputs": [],
   "source": [
    "pcs = pd.DataFrame(pcs)\n",
    "pcs"
   ]
  },
  {
   "cell_type": "markdown",
   "metadata": {
    "id": "0xd0uKUeIINc"
   },
   "source": [
    "Intéressant... Mais pas encore très clair...\n",
    "Continuons le travail : "
   ]
  },
  {
   "cell_type": "code",
   "execution_count": null,
   "metadata": {
    "id": "Kja0sm4N_bUm"
   },
   "outputs": [],
   "source": [
    "pcs.columns = features\n",
    "pcs.index = [f\"F{i}\" for i in x_list]\n",
    "pcs.round(2)"
   ]
  },
  {
   "cell_type": "markdown",
   "metadata": {
    "id": "vLefXSAjIO6B"
   },
   "source": [
    "De mieux en mieux !  \n",
    "\n",
    "-- **ATTENTION** -- : Nous avons arrondi les résultats pour simplifier l'analyse :) "
   ]
  },
  {
   "cell_type": "markdown",
   "metadata": {
    "id": "q2cmDfhfKJJA"
   },
   "source": [
    "<br>\n",
    "\n",
    "-------------------------\n",
    "\n",
    "<br>\n",
    "\n",
    "Alors, comment calcule t-on la première composante `F1` ? \n",
    "\n",
    "et bien c'est assez simple :\n",
    "\n",
    "`F1 = (0.23 * inscription) + (-0.45 * progression) + ... + (0.45 * nbEvaluations)`\n",
    "\n",
    "et F2 ?\n",
    "\n",
    "`F2 = (0.14 * inscription) + (-0.10 * progression) + ... + (0.21 * nbEvaluations)`\n",
    "\n",
    "**Eureka !**\n",
    "\n",
    "<br> \n",
    "\n",
    "------------------------\n",
    "\n",
    "<br>\n"
   ]
  },
  {
   "cell_type": "markdown",
   "metadata": {
    "id": "tRTwCH7TKKni"
   },
   "source": [
    "\n",
    "Dans certains cas, on voudra afficher ce dataframe comme cela : "
   ]
  },
  {
   "cell_type": "code",
   "execution_count": null,
   "metadata": {
    "id": "yyavxCt8_-V8"
   },
   "outputs": [],
   "source": [
    "pcs.T"
   ]
  },
  {
   "cell_type": "markdown",
   "metadata": {
    "id": "_qUlQTnwJh1Y"
   },
   "source": [
    "Et pour une représentation plus *visuelle*, comme cela : "
   ]
  },
  {
   "cell_type": "code",
   "execution_count": null,
   "metadata": {
    "id": "P2l7uuOWAA18"
   },
   "outputs": [],
   "source": [
    "fig, ax = plt.subplots(figsize=(20, 6))\n",
    "sns.heatmap(pcs.T, vmin=-1, vmax=1, annot=True, cmap=\"coolwarm\", fmt=\"0.2f\")"
   ]
  },
  {
   "cell_type": "markdown",
   "metadata": {
    "id": "DzhDQbYpApUZ"
   },
   "source": [
    "## 3.5 Correlation graph"
   ]
  },
  {
   "cell_type": "markdown",
   "metadata": {
    "id": "RLQf6BFVU980"
   },
   "source": [
    "Bon, pour le graphe des corrélations, on va tricher un peu... \n",
    "\n",
    "Je vais vous donner du code clé en main. Charge à vous de le comprendre ou de le copier sans vergogne :) \n",
    "\n",
    "\n",
    "Même si vous ne comprenez pas tout, essayez de lire au moins une fois le code, à la volée. On ne sait jamais...\n",
    "\n",
    "<br>\n",
    "\n",
    "_______________________________\n",
    "\n",
    "<br>\n"
   ]
  },
  {
   "cell_type": "markdown",
   "metadata": {
    "id": "y6DT05G_VNFg"
   },
   "source": [
    "Définissons nos axes x et y. Nous allons utiliser les 2 premières composantes. Comme - en code - on commence à compter à partir de 0, cela nous donne : "
   ]
  },
  {
   "cell_type": "code",
   "execution_count": null,
   "metadata": {
    "id": "R0G29uPXWJk2"
   },
   "outputs": [],
   "source": [
    "x, y = 0,1"
   ]
  },
  {
   "cell_type": "markdown",
   "metadata": {
    "id": "D3T2UCMFZqgH"
   },
   "source": [
    "Pour la partie graphique : "
   ]
  },
  {
   "cell_type": "code",
   "execution_count": null,
   "metadata": {
    "id": "9TG99HfDUjG_"
   },
   "outputs": [],
   "source": [
    "fig, ax = plt.subplots(figsize=(10, 9))\n",
    "for i in range(0, pca.components_.shape[1]):\n",
    "    ax.arrow(0,\n",
    "             0,  # Start the arrow at the origin\n",
    "             pca.components_[0, i],  #0 for PC1\n",
    "             pca.components_[1, i],  #1 for PC2\n",
    "             head_width=0.07,\n",
    "             head_length=0.07, \n",
    "             width=0.02,              )\n",
    "\n",
    "    plt.text(pca.components_[0, i] + 0.05,\n",
    "             pca.components_[1, i] + 0.05,\n",
    "             features[i])\n",
    "    \n",
    "# affichage des lignes horizontales et verticales\n",
    "plt.plot([-1, 1], [0, 0], color='grey', ls='--')\n",
    "plt.plot([0, 0], [-1, 1], color='grey', ls='--')\n",
    "\n",
    "\n",
    "# nom des axes, avec le pourcentage d'inertie expliqué\n",
    "plt.xlabel('F{} ({}%)'.format(x+1, round(100*pca.explained_variance_ratio_[x],1)))\n",
    "plt.ylabel('F{} ({}%)'.format(y+1, round(100*pca.explained_variance_ratio_[y],1)))\n",
    "\n",
    "plt.title(\"Cercle des corrélations (F{} et F{})\".format(x+1, y+1))\n",
    "\n",
    "\n",
    "an = np.linspace(0, 2 * np.pi, 100)\n",
    "plt.plot(np.cos(an), np.sin(an))  # Add a unit circle for scale\n",
    "plt.axis('equal')\n",
    "plt.show(block=False)"
   ]
  },
  {
   "cell_type": "markdown",
   "metadata": {
    "id": "DnweYMGpZtl8"
   },
   "source": [
    "On peut en faire une fonction : "
   ]
  },
  {
   "cell_type": "code",
   "execution_count": null,
   "metadata": {
    "id": "k0l5bFL4Vrjm"
   },
   "outputs": [],
   "source": [
    "def correlation_graph(pca, \n",
    "                      x_y, \n",
    "                      features) : \n",
    "    \"\"\"Affiche le graphe des correlations\n",
    "\n",
    "    Positional arguments : \n",
    "    -----------------------------------\n",
    "    pca : sklearn.decomposition.PCA : notre objet PCA qui a été fit\n",
    "    x_y : list ou tuple : le couple x,y des plans à afficher, exemple [0,1] pour F1, F2\n",
    "    features : list ou tuple : la liste des features (ie des dimensions) à représenter\n",
    "    \"\"\"\n",
    "\n",
    "    # Extrait x et y \n",
    "    x,y=x_y\n",
    "\n",
    "    # Taille de l'image (en inches)\n",
    "    fig, ax = plt.subplots(figsize=(10, 9))\n",
    "\n",
    "    # Pour chaque composante : \n",
    "    for i in range(0, pca.components_.shape[1]):\n",
    "\n",
    "        # Les flèches\n",
    "        ax.arrow(0,0, \n",
    "                pca.components_[x, i],  \n",
    "                pca.components_[y, i],  \n",
    "                head_width=0.07,\n",
    "                head_length=0.07, \n",
    "                width=0.02, )\n",
    "\n",
    "        # Les labels\n",
    "        plt.text(pca.components_[x, i] + 0.05,\n",
    "                pca.components_[y, i] + 0.05,\n",
    "                features[i])\n",
    "        \n",
    "    # Affichage des lignes horizontales et verticales\n",
    "    plt.plot([-1, 1], [0, 0], color='grey', ls='--')\n",
    "    plt.plot([0, 0], [-1, 1], color='grey', ls='--')\n",
    "\n",
    "    # Nom des axes, avec le pourcentage d'inertie expliqué\n",
    "    plt.xlabel('F{} ({}%)'.format(x+1, round(100*pca.explained_variance_ratio_[x],1)))\n",
    "    plt.ylabel('F{} ({}%)'.format(y+1, round(100*pca.explained_variance_ratio_[y],1)))\n",
    "\n",
    "    # J'ai copié collé le code sans le lire\n",
    "    plt.title(\"Cercle des corrélations (F{} et F{})\".format(x+1, y+1))\n",
    "\n",
    "    # Le cercle \n",
    "    an = np.linspace(0, 2 * np.pi, 100)\n",
    "    plt.plot(np.cos(an), np.sin(an))  # Add a unit circle for scale\n",
    "\n",
    "    # Axes et display\n",
    "    plt.axis('equal')\n",
    "    plt.show(block=False)"
   ]
  },
  {
   "cell_type": "markdown",
   "metadata": {
    "id": "cxHs_qzrZxZY"
   },
   "source": [
    "Essayons cette fonction pour F1 et F2 \n",
    "\n",
    "-- **ATTENTION** -- Encore une fois Pour F1 et F2 il faut bien préciser  0 et 1  😀"
   ]
  },
  {
   "cell_type": "code",
   "execution_count": null,
   "metadata": {
    "id": "CdnKBZ9pHZcZ"
   },
   "outputs": [],
   "source": [
    "x_y = (0,1)\n",
    "x_y"
   ]
  },
  {
   "cell_type": "code",
   "execution_count": null,
   "metadata": {
    "id": "9yv43xrZXjJu"
   },
   "outputs": [],
   "source": [
    "correlation_graph(pca, x_y, features)"
   ]
  },
  {
   "cell_type": "markdown",
   "metadata": {
    "id": "pwAn-ZA_ag8S"
   },
   "source": [
    "Essayons pour F3 et F4 : "
   ]
  },
  {
   "cell_type": "code",
   "execution_count": null,
   "metadata": {
    "id": "LDQkg3zgZmjz"
   },
   "outputs": [],
   "source": [
    "correlation_graph(pca, (2,3), features)"
   ]
  },
  {
   "cell_type": "markdown",
   "metadata": {
    "id": "8Tp0xPNnZyUC"
   },
   "source": [
    "## 3.6 Projection"
   ]
  },
  {
   "cell_type": "markdown",
   "metadata": {
    "id": "fSN-ysrUapCJ"
   },
   "source": [
    "Travaillons maintenant sur la projection de nos dimensions. Tout d'abord calculons les coordonnées de nos individus dans le nouvel espace : "
   ]
  },
  {
   "cell_type": "code",
   "execution_count": null,
   "metadata": {
    "id": "XTefDhHfBOS4"
   },
   "outputs": [],
   "source": [
    "X_proj = pca.transform(X_scaled)\n",
    "X_proj[:5]"
   ]
  },
  {
   "cell_type": "markdown",
   "metadata": {
    "id": "BpF1_3jjHj_O"
   },
   "source": [
    "Rappelons que : "
   ]
  },
  {
   "cell_type": "code",
   "execution_count": null,
   "metadata": {
    "id": "YV6wSluwawMU"
   },
   "outputs": [],
   "source": [
    "x_y"
   ]
  },
  {
   "cell_type": "markdown",
   "metadata": {
    "id": "RG3AZxxYa6AJ"
   },
   "source": [
    "Accrochez vous, car voici la fonction. \n",
    "\n",
    "\n",
    "Pour info, sachez que nous reviendrons dessus lors du TP de la 3e partie. Pas besoin de trop rentrer dans le détail pour l'instant, mais lisez la quand même le code, au moins une fois, en diagonale..."
   ]
  },
  {
   "cell_type": "code",
   "execution_count": null,
   "metadata": {
    "id": "Voc4WRTcbw7x"
   },
   "outputs": [],
   "source": [
    "def display_factorial_planes(   X_projected, \n",
    "                                x_y, \n",
    "                                pca=None, \n",
    "                                labels = None,\n",
    "                                clusters=None, \n",
    "                                alpha=1,\n",
    "                                figsize=[10,8], \n",
    "                                marker=\".\" ):\n",
    "    \"\"\"\n",
    "    Affiche la projection des individus\n",
    "\n",
    "    Positional arguments : \n",
    "    -------------------------------------\n",
    "    X_projected : np.array, pd.DataFrame, list of list : la matrice des points projetés\n",
    "    x_y : list ou tuple : le couple x,y des plans à afficher, exemple [0,1] pour F1, F2\n",
    "\n",
    "    Optional arguments : \n",
    "    -------------------------------------\n",
    "    pca : sklearn.decomposition.PCA : un objet PCA qui a été fit, cela nous permettra d'afficher la variance de chaque composante, default = None\n",
    "    labels : list ou tuple : les labels des individus à projeter, default = None\n",
    "    clusters : list ou tuple : la liste des clusters auquel appartient chaque individu, default = None\n",
    "    alpha : float in [0,1] : paramètre de transparence, 0=100% transparent, 1=0% transparent, default = 1\n",
    "    figsize : list ou tuple : couple width, height qui définit la taille de la figure en inches, default = [10,8] \n",
    "    marker : str : le type de marker utilisé pour représenter les individus, points croix etc etc, default = \".\"\n",
    "    \"\"\"\n",
    "\n",
    "    # Transforme X_projected en np.array\n",
    "    X_ = np.array(X_projected)\n",
    "\n",
    "    # On définit la forme de la figure si elle n'a pas été donnée\n",
    "    if not figsize: \n",
    "        figsize = (7,6)\n",
    "\n",
    "    # On gère les labels\n",
    "    if  labels is None : \n",
    "        labels = []\n",
    "    try : \n",
    "        len(labels)\n",
    "    except Exception as e : \n",
    "        raise e\n",
    "\n",
    "    # On vérifie la variable axis \n",
    "    if not len(x_y) ==2 : \n",
    "        raise AttributeError(\"2 axes sont demandées\")   \n",
    "    if max(x_y )>= X_.shape[1] : \n",
    "        raise AttributeError(\"la variable axis n'est pas bonne\")   \n",
    "\n",
    "    # on définit x et y \n",
    "    x, y = x_y\n",
    "\n",
    "    # Initialisation de la figure       \n",
    "    fig, ax = plt.subplots(1, 1, figsize=figsize)\n",
    "\n",
    "    # On vérifie s'il y a des clusters ou non\n",
    "    c = None if clusters is None else clusters\n",
    " \n",
    "    # Les points    \n",
    "    # plt.scatter(   X_[:, x], X_[:, y], alpha=alpha, \n",
    "    #                     c=c, cmap=\"Set1\", marker=marker)\n",
    "    sns.scatterplot(data=None, x=X_[:, x], y=X_[:, y], hue=c)\n",
    "\n",
    "    # Si la variable pca a été fournie, on peut calculer le % de variance de chaque axe \n",
    "    if pca : \n",
    "        v1 = str(round(100*pca.explained_variance_ratio_[x]))  + \" %\"\n",
    "        v2 = str(round(100*pca.explained_variance_ratio_[y]))  + \" %\"\n",
    "    else : \n",
    "        v1=v2= ''\n",
    "\n",
    "    # Nom des axes, avec le pourcentage d'inertie expliqué\n",
    "    ax.set_xlabel(f'F{x+1} {v1}')\n",
    "    ax.set_ylabel(f'F{y+1} {v2}')\n",
    "\n",
    "    # Valeur x max et y max\n",
    "    x_max = np.abs(X_[:, x]).max() *1.1\n",
    "    y_max = np.abs(X_[:, y]).max() *1.1\n",
    "\n",
    "    # On borne x et y \n",
    "    ax.set_xlim(left=-x_max, right=x_max)\n",
    "    ax.set_ylim(bottom= -y_max, top=y_max)\n",
    "\n",
    "    # Affichage des lignes horizontales et verticales\n",
    "    plt.plot([-x_max, x_max], [0, 0], color='grey', alpha=0.8)\n",
    "    plt.plot([0,0], [-y_max, y_max], color='grey', alpha=0.8)\n",
    "\n",
    "    # Affichage des labels des points\n",
    "    if len(labels) : \n",
    "        # j'ai copié collé la fonction sans la lire\n",
    "        for i,(_x,_y) in enumerate(X_[:,[x,y]]):\n",
    "            plt.text(_x, _y+0.05, labels[i], fontsize='14', ha='center',va='center') \n",
    "\n",
    "    # Titre et display\n",
    "    plt.title(f\"Projection des individus (sur F{x+1} et F{y+1})\")\n",
    "    plt.show()\n",
    "\n"
   ]
  },
  {
   "cell_type": "markdown",
   "metadata": {
    "id": "x4DQx8ECcoj1"
   },
   "source": [
    "Essayons la version *simple* avec F1 et F2, les couleurs correspondent au niveau de difficulté : "
   ]
  },
  {
   "cell_type": "code",
   "execution_count": null,
   "metadata": {
    "id": "atBlYise4eIk"
   },
   "outputs": [],
   "source": [
    "x_y = [0,1]\n",
    "display_factorial_planes(X_proj, x_y, clusters=df['difficulte'])"
   ]
  },
  {
   "cell_type": "markdown",
   "metadata": {
    "id": "w43dmV854pjy"
   },
   "source": [
    "Intéressant, mais il manque quelques éléments...\n",
    "\n",
    "Essayons la version plus *élaborée* avec F1 et F2 : "
   ]
  },
  {
   "cell_type": "code",
   "execution_count": null,
   "metadata": {
    "id": "IMMKS92ab6Z8"
   },
   "outputs": [],
   "source": [
    "x_y = [0,1]\n",
    "display_factorial_planes(X_proj, x_y, pca, labels=names, figsize=(20,16), clusters=df['difficulte'], marker=\"o\")"
   ]
  },
  {
   "cell_type": "code",
   "execution_count": null,
   "metadata": {
    "id": "TeE1I99nujG7"
   },
   "outputs": [],
   "source": []
  },
  {
   "cell_type": "markdown",
   "metadata": {
    "id": "jbBVLXtYdF-A"
   },
   "source": [
    "Beaucoup mieux ! \n",
    "\n",
    "Essayons avec F2 et F3 : "
   ]
  },
  {
   "cell_type": "code",
   "execution_count": null,
   "metadata": {
    "id": "f9N1my2BaED2"
   },
   "outputs": [],
   "source": [
    "x_y = 1,2\n",
    "display_factorial_planes(X_proj, x_y, pca, labels=names, figsize=(20,16), clusters=df['difficulte'],marker=\"o\")"
   ]
  },
  {
   "cell_type": "markdown",
   "metadata": {
    "id": "U2ptEGeiH8Dm"
   },
   "source": [
    "# 4 Conclusion"
   ]
  },
  {
   "cell_type": "markdown",
   "metadata": {
    "id": "irBu3CDYIAz8"
   },
   "source": [
    "Vous êtes arrivé au bout de ce travail, Bravo!\n",
    "\n",
    "Il ne reste plus qu'à vous entrainer sur d'autres jeux de données 😀.\n",
    "\n",
    "<br>\n",
    "\n",
    "------------------\n",
    "\n",
    "<br>"
   ]
  },
  {
   "cell_type": "markdown",
   "metadata": {
    "id": "fgtKyMs4IF9P"
   },
   "source": [
    "En cas de questions, n'hésitez pas à nous adresser vos questions, remarques ou suggestions sur le [formulaire](https://openclassrooms.zendesk.com/hc/fr/requests/new) .\n",
    "\n"
   ]
  },
  {
   "cell_type": "code",
   "execution_count": null,
   "metadata": {
    "id": "O_sLHmFVD_Vg"
   },
   "outputs": [],
   "source": []
  }
 ],
 "metadata": {
  "colab": {
   "collapsed_sections": [
    "tWJ8UFzD5yaX",
    "3W8KOXQO5ypf",
    "bQVXpNdo5yry",
    "2jUueGsc8KzY",
    "t_vVaCp28OWB",
    "2sC9qaUN8UN4",
    "gmeU74ml8fI4",
    "djz1GD-l8hif",
    "URbdIMsj8zWl"
   ],
   "provenance": []
  },
  "kernelspec": {
   "display_name": "Python 3 (ipykernel)",
   "language": "python",
   "name": "python3"
  },
  "language_info": {
   "codemirror_mode": {
    "name": "ipython",
    "version": 3
   },
   "file_extension": ".py",
   "mimetype": "text/x-python",
   "name": "python",
   "nbconvert_exporter": "python",
   "pygments_lexer": "ipython3",
   "version": "3.9.13"
  }
 },
 "nbformat": 4,
 "nbformat_minor": 1
}
