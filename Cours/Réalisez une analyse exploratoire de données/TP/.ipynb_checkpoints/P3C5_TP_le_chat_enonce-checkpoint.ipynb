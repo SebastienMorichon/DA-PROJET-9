{
 "cells": [
  {
   "cell_type": "markdown",
   "metadata": {
    "id": "Lk_sV2tLCC9n"
   },
   "source": [
    "# Partitionnez vos données - Le chat - Enoncé"
   ]
  },
  {
   "cell_type": "markdown",
   "metadata": {
    "id": "Mrl6p2eeX2q0"
   },
   "source": [
    "# 1 Preliminary"
   ]
  },
  {
   "cell_type": "markdown",
   "metadata": {
    "id": "qdVWEItQX2sM"
   },
   "source": [
    "## 1.1 Context"
   ]
  },
  {
   "cell_type": "markdown",
   "metadata": {
    "id": "uGoPs-ZLCWlc"
   },
   "source": [
    "Ce TP est en lien avec l'activité [Partitionnez vos données](https://openclassrooms.com/fr/courses/4525281-realisez-une-analyse-exploratoire-de-donnees/5345241-tp-partitionnez-vos-donnees), de la partie 3 du cours  [Réalisez une analyse exploratoire de données](https://openclassrooms.com/fr/courses/4525281-realisez-une-analyse-exploratoire-de-donnees).\n",
    "\n",
    "Nous allons travailler sur le *jeu de données des cours suivis*.\n",
    "\n",
    "Prenez le temps de bien **lire**, **comprendre** et **tester** le code ci dessous.\n",
    "\n",
    "<br>\n",
    "\n",
    "------------------------------\n",
    "\n",
    "<br>\n",
    "\n",
    "En cas de question, n'hésitez pas à nous adresser vos remarques ou suggestions via ce [lien](https://openclassrooms.zendesk.com/hc/fr/requests/new).\n",
    "\n",
    "<br>\n",
    "\n",
    "-------------------------\n",
    "\n",
    "<br>\n",
    "\n",
    "* version : 0.0.0\n",
    "* last update:  2022-08-03\n",
    "* author : [Alexandre Gazagnes](https://twitter.com/Alex_Gazagnes)\n",
    "\n",
    "<br>"
   ]
  },
  {
   "cell_type": "markdown",
   "metadata": {
    "id": "n0PGqYq3Xpj5"
   },
   "source": [
    "## 1.2 Imports"
   ]
  },
  {
   "cell_type": "markdown",
   "metadata": {
    "id": "aUDGTWtUX-Dg"
   },
   "source": [
    "Importons les librairies : "
   ]
  },
  {
   "cell_type": "code",
   "execution_count": 5,
   "metadata": {
    "colab": {
     "base_uri": "https://localhost:8080/",
     "height": 130
    },
    "id": "PecZ5aBzV73q",
    "outputId": "e40206c2-2eb5-4f69-ad8f-fc4e77e83c35"
   },
   "outputs": [],
   "source": [
    "######\n",
    "\n",
    "import pandas as pd\n",
    "import numpy as np\n",
    "\n",
    "import matplotlib.pyplot as plt\n",
    "import seaborn as sns\n",
    "\n",
    "from sklearn import datasets\n",
    "from sklearn.cluster import AgglomerativeClustering\n",
    "from sklearn import preprocessing\n",
    "from sklearn.metrics import confusion_matrix\n",
    "\n",
    "from scipy.cluster.hierarchy import dendrogram, linkage, fcluster\n",
    "\n",
    "######"
   ]
  },
  {
   "cell_type": "markdown",
   "metadata": {
    "id": "xnVjH5PGYAi9"
   },
   "source": [
    "## 1.3 Graphics"
   ]
  },
  {
   "cell_type": "markdown",
   "metadata": {
    "id": "EobBdulKYDp2"
   },
   "source": [
    "Chargeons les librairies graphiques : "
   ]
  },
  {
   "cell_type": "code",
   "execution_count": 2,
   "metadata": {
    "id": "lS8iomVaXc4v"
   },
   "outputs": [],
   "source": [
    "sns.set()"
   ]
  },
  {
   "cell_type": "markdown",
   "metadata": {
    "id": "GC8BTPrxYHk5"
   },
   "source": [
    "## 1.4 Data"
   ]
  },
  {
   "cell_type": "markdown",
   "metadata": {
    "id": "COgh2zosYHm8"
   },
   "source": [
    "Nous allons maintenant charger les données. Pour ce faire vous pouvez les retrouver sur cette [page du cours](https://openclassrooms.com/fr/courses/4525281-realisez-une-analyse-exploratoire-de-donnees/5148885-telechargez-les-jeux-de-donnees-analyses-dans-ce-cours).\n",
    "\n",
    "<br>\n",
    "\n",
    "------------------------\n",
    "\n",
    "\n",
    "<br>\n",
    "\n",
    "\n",
    "Si vous utlisez Google Colab et que vous ne savez pas comment importer un fichier .csv, voici une [vidéo](https://youtu.be/6HFlwqK3oeo?t=171) à regarder à partir de 2:53\n",
    "\n",
    "<br>\n",
    "\n",
    "-------------------------------------\n",
    "\n",
    "<br>\n",
    "\n",
    "\n",
    "Importons notre fichier `mystery.csv` : "
   ]
  },
  {
   "cell_type": "code",
   "execution_count": 6,
   "metadata": {
    "id": "DI6uQNZxsWRn"
   },
   "outputs": [],
   "source": [
    "######\n",
    "\n",
    "df = pd.read_csv(\"Données/mystery.csv\")\n",
    "\n",
    "######"
   ]
  },
  {
   "cell_type": "code",
   "execution_count": 7,
   "metadata": {
    "colab": {
     "base_uri": "https://localhost:8080/",
     "height": 170
    },
    "id": "IXUoQRDNwIum",
    "outputId": "3894ed88-1bfe-4168-9a4b-ad402a62cfb1"
   },
   "outputs": [
    {
     "data": {
      "text/plain": [
       "(5000, 3)"
      ]
     },
     "execution_count": 7,
     "metadata": {},
     "output_type": "execute_result"
    }
   ],
   "source": [
    "df.shape"
   ]
  },
  {
   "cell_type": "markdown",
   "metadata": {
    "id": "T_s5Wl2es4az"
   },
   "source": [
    "# 2 K-means"
   ]
  },
  {
   "cell_type": "markdown",
   "metadata": {
    "id": "vqEgwTgyW1wS"
   },
   "source": [
    "Lançons nous dans le K-Means. "
   ]
  },
  {
   "cell_type": "markdown",
   "metadata": {
    "id": "YTzo-HYOuXk4"
   },
   "source": [
    "## 2.1 For 6 clusters"
   ]
  },
  {
   "cell_type": "markdown",
   "metadata": {
    "id": "AHd93cXe0irN"
   },
   "source": [
    "Nous allons faire un premier clustering avec 6 clusters.\n",
    "\n",
    "Avant cela, nous allons extraire les valeurs de `df` et les stocker dans `X` : "
   ]
  },
  {
   "cell_type": "code",
   "execution_count": 8,
   "metadata": {
    "id": "yCQodGuGtHS9"
   },
   "outputs": [
    {
     "data": {
      "text/plain": [
       "array([[ -7.98897945,  15.63392829,  -5.72622111],\n",
       "       [  0.10838595,  -3.45614357,  22.2727908 ],\n",
       "       [  1.56544678,  10.91579724,  29.04020702],\n",
       "       ...,\n",
       "       [ -4.30550709,  -5.33024319,   5.65044025],\n",
       "       [ -7.06728704,   9.42203474,  23.18674122],\n",
       "       [  5.79373772, -12.59180886,  18.57084882]])"
      ]
     },
     "execution_count": 8,
     "metadata": {},
     "output_type": "execute_result"
    }
   ],
   "source": [
    "X = df.values\n",
    "X"
   ]
  },
  {
   "cell_type": "markdown",
   "metadata": {
    "id": "FQpkwFI802sU"
   },
   "source": [
    "\n",
    "Instancions notre scaler : "
   ]
  },
  {
   "cell_type": "code",
   "execution_count": 9,
   "metadata": {
    "id": "7LynR_Pt1TKK"
   },
   "outputs": [
    {
     "ename": "NameError",
     "evalue": "name 'StandardScaler' is not defined",
     "output_type": "error",
     "traceback": [
      "\u001b[0;31m---------------------------------------------------------------------------\u001b[0m",
      "\u001b[0;31mNameError\u001b[0m                                 Traceback (most recent call last)",
      "\u001b[0;32m/var/folders/hy/g05wz4ln30z1r5z3mv1rwd2h0000gn/T/ipykernel_48193/3972406407.py\u001b[0m in \u001b[0;36m<module>\u001b[0;34m\u001b[0m\n\u001b[0;32m----> 1\u001b[0;31m \u001b[0mscaler\u001b[0m \u001b[0;34m=\u001b[0m \u001b[0mStandardScaler\u001b[0m\u001b[0;34m(\u001b[0m\u001b[0mwith_std\u001b[0m\u001b[0;34m=\u001b[0m\u001b[0;32mFalse\u001b[0m\u001b[0;34m)\u001b[0m\u001b[0;34m\u001b[0m\u001b[0;34m\u001b[0m\u001b[0m\n\u001b[0m",
      "\u001b[0;31mNameError\u001b[0m: name 'StandardScaler' is not defined"
     ]
    }
   ],
   "source": [
    "scaler = StandardScaler(with_std=False)"
   ]
  },
  {
   "cell_type": "markdown",
   "metadata": {
    "id": "KHtrlbgG1Vcf"
   },
   "source": [
    "Entrainons le scaler :"
   ]
  },
  {
   "cell_type": "code",
   "execution_count": 10,
   "metadata": {
    "id": "MUxH0FdFtSTL"
   },
   "outputs": [
    {
     "ename": "NameError",
     "evalue": "name 'scaler' is not defined",
     "output_type": "error",
     "traceback": [
      "\u001b[0;31m---------------------------------------------------------------------------\u001b[0m",
      "\u001b[0;31mNameError\u001b[0m                                 Traceback (most recent call last)",
      "\u001b[0;32m/var/folders/hy/g05wz4ln30z1r5z3mv1rwd2h0000gn/T/ipykernel_48193/3995320744.py\u001b[0m in \u001b[0;36m<module>\u001b[0;34m\u001b[0m\n\u001b[1;32m      1\u001b[0m \u001b[0;31m######\u001b[0m\u001b[0;34m\u001b[0m\u001b[0;34m\u001b[0m\u001b[0m\n\u001b[1;32m      2\u001b[0m \u001b[0;34m\u001b[0m\u001b[0m\n\u001b[0;32m----> 3\u001b[0;31m \u001b[0mscaler\u001b[0m\u001b[0;34m.\u001b[0m\u001b[0mfit\u001b[0m\u001b[0;34m(\u001b[0m\u001b[0mX\u001b[0m\u001b[0;34m)\u001b[0m\u001b[0;34m\u001b[0m\u001b[0;34m\u001b[0m\u001b[0m\n\u001b[0m\u001b[1;32m      4\u001b[0m \u001b[0;34m\u001b[0m\u001b[0m\n\u001b[1;32m      5\u001b[0m \u001b[0;31m######\u001b[0m\u001b[0;34m\u001b[0m\u001b[0;34m\u001b[0m\u001b[0m\n",
      "\u001b[0;31mNameError\u001b[0m: name 'scaler' is not defined"
     ]
    }
   ],
   "source": [
    "######\n",
    "\n",
    "scaler.fit(X)\n",
    "\n",
    "######"
   ]
  },
  {
   "cell_type": "markdown",
   "metadata": {
    "id": "m4PmPtJp1i-i"
   },
   "source": [
    "Transformons ensuite les données : "
   ]
  },
  {
   "cell_type": "code",
   "execution_count": null,
   "metadata": {
    "id": "WAxVDBYk1yjw"
   },
   "outputs": [],
   "source": [
    "######\n",
    "\n",
    "# Il manque du code ici !\n",
    "\n",
    "######"
   ]
  },
  {
   "cell_type": "markdown",
   "metadata": {
    "id": "DoNPABNr2I_o"
   },
   "source": [
    "On définit ensuite notre nombre de clusters : "
   ]
  },
  {
   "cell_type": "code",
   "execution_count": null,
   "metadata": {
    "id": "Mg7mS5cRtMEU"
   },
   "outputs": [],
   "source": [
    "n_clust = 6"
   ]
  },
  {
   "cell_type": "markdown",
   "metadata": {
    "id": "Nb4RyPQR2Mmf"
   },
   "source": [
    "On instancie notre K-means : "
   ]
  },
  {
   "cell_type": "code",
   "execution_count": null,
   "metadata": {
    "id": "hx74_p0T2PmM"
   },
   "outputs": [],
   "source": [
    "######\n",
    "\n",
    "# Il manque du code ici !\n",
    "\n",
    "######"
   ]
  },
  {
   "cell_type": "markdown",
   "metadata": {
    "id": "1sGEuOqr2SpA"
   },
   "source": [
    "On l'entraine : "
   ]
  },
  {
   "cell_type": "code",
   "execution_count": null,
   "metadata": {
    "id": "a4vSUbwYyP-B"
   },
   "outputs": [],
   "source": [
    "######\n",
    "\n",
    "# Il manque du code ici !\n",
    "\n",
    "######"
   ]
  },
  {
   "cell_type": "markdown",
   "metadata": {
    "id": "HpAuyemf2WX0"
   },
   "source": [
    "Et on récupère les clusters : "
   ]
  },
  {
   "cell_type": "code",
   "execution_count": null,
   "metadata": {
    "id": "1dLSPSp5tVf8"
   },
   "outputs": [],
   "source": [
    "######\n",
    "\n",
    "# Il manque du code ici !\n",
    "\n",
    "######\n",
    "\n",
    "clusters"
   ]
  },
  {
   "cell_type": "markdown",
   "metadata": {
    "id": "hT0cRgZO2aXC"
   },
   "source": [
    "Vérifions que nous avons bien 5000 clusters : "
   ]
  },
  {
   "cell_type": "code",
   "execution_count": null,
   "metadata": {
    "id": "qgL2UJRWwMle"
   },
   "outputs": [],
   "source": [
    "clusters.shape"
   ]
  },
  {
   "cell_type": "markdown",
   "metadata": {
    "id": "QkQ70V732ic_"
   },
   "source": [
    "Mais qu'il n'y a que 6 valeurs différentes : "
   ]
  },
  {
   "cell_type": "code",
   "execution_count": null,
   "metadata": {
    "id": "z6GcCZZI2oVV"
   },
   "outputs": [],
   "source": [
    "pd.Series.value_counts(clusters).sort_index()"
   ]
  },
  {
   "cell_type": "markdown",
   "metadata": {
    "id": "7uHvyLdD2igX"
   },
   "source": [
    "Passons à la PCA ! Nous pouvons conserver que les 2 premiers plans projectifs.\n",
    "\n",
    "Nous pouvons instancier notre objet : "
   ]
  },
  {
   "cell_type": "code",
   "execution_count": null,
   "metadata": {
    "id": "2ZRwE7i1twlO"
   },
   "outputs": [],
   "source": [
    "######\n",
    "\n",
    "# Il manque du code ici !\n",
    "\n",
    "######\n",
    "\n",
    "pca"
   ]
  },
  {
   "cell_type": "markdown",
   "metadata": {
    "id": "-ZgQ8i_D3BpP"
   },
   "source": [
    "Puis l'entrainer : "
   ]
  },
  {
   "cell_type": "code",
   "execution_count": null,
   "metadata": {
    "id": "Vyg0p9uEtZc7"
   },
   "outputs": [],
   "source": [
    "######\n",
    "\n",
    "# Il manque du code ici !\n",
    "\n",
    "######"
   ]
  },
  {
   "cell_type": "markdown",
   "metadata": {
    "id": "Zx3JoX0h3MA7"
   },
   "source": [
    "Et enfin projeter nos points dans les nouvelles dimensions : "
   ]
  },
  {
   "cell_type": "code",
   "execution_count": null,
   "metadata": {
    "id": "s1SZtMHstzmk"
   },
   "outputs": [],
   "source": [
    "######\n",
    "\n",
    "# Il manque du code ici !\n",
    "\n",
    "######\n",
    "\n",
    "X_projected"
   ]
  },
  {
   "cell_type": "markdown",
   "metadata": {
    "id": "s7cxTu4U3SJi"
   },
   "source": [
    "Nous avons bien 5000 individus mais 2 colonnes : "
   ]
  },
  {
   "cell_type": "code",
   "execution_count": null,
   "metadata": {
    "id": "5BspOwubwPPh"
   },
   "outputs": [],
   "source": [
    "X_projected.shape"
   ]
  },
  {
   "cell_type": "markdown",
   "metadata": {
    "id": "gPycfYnc3ZbS"
   },
   "source": [
    "Enfin, nous pouvons faire notre visualisation : "
   ]
  },
  {
   "cell_type": "code",
   "execution_count": null,
   "metadata": {
    "id": "P_dO4utvtbDO"
   },
   "outputs": [],
   "source": [
    "######\n",
    "\n",
    "# Il manque du code ici !\n",
    "\n",
    "######"
   ]
  },
  {
   "cell_type": "markdown",
   "metadata": {
    "id": "oNkxpq6g4MZ-"
   },
   "source": [
    "Notre chat a retrouvé sa forme initiale et le k-means a bien identifiées 6 parties bien distinctes du chat : \n",
    "* la tête\n",
    "* les pattes avants et arrières\n",
    "* la queue\n",
    "* le corps divisé en deux parties\n"
   ]
  },
  {
   "cell_type": "markdown",
   "metadata": {
    "id": "7m_HVTqsJzAW"
   },
   "source": [
    "## 2.2 For 500 clusters"
   ]
  },
  {
   "cell_type": "markdown",
   "metadata": {
    "id": "VzsLY-QxTwn0"
   },
   "source": [
    "Comment faire maintenant, si nous voulions dessiner notre chat, mais non pas avec 5 000 points, mais seulement 500 points?\n",
    "\n",
    "C'est ce que nous allons faire ! \n",
    "\n",
    "Commencons par définir 500 points, ou plutot 500 clusters : "
   ]
  },
  {
   "cell_type": "code",
   "execution_count": null,
   "metadata": {
    "id": "Zer6iF3jyky-"
   },
   "outputs": [],
   "source": [
    "n_clust = 500"
   ]
  },
  {
   "cell_type": "code",
   "execution_count": null,
   "metadata": {
    "id": "2floP-ZTC1Pr"
   },
   "outputs": [],
   "source": [
    "######\n",
    "\n",
    "# Il manque du code ici !\n",
    "\n",
    "######\n",
    "\n",
    "km"
   ]
  },
  {
   "cell_type": "code",
   "execution_count": null,
   "metadata": {
    "id": "4EtnCpWWu3su"
   },
   "outputs": [],
   "source": [
    "######\n",
    "\n",
    "# Il manque du code ici !\n",
    "\n",
    "######\n",
    "\n",
    "clusters"
   ]
  },
  {
   "cell_type": "markdown",
   "metadata": {
    "id": "iWS3V_jy5ECG"
   },
   "source": [
    "Appliquons notre PCA pour calculer nos points dans les nouveaux plans projectifs : "
   ]
  },
  {
   "cell_type": "code",
   "execution_count": null,
   "metadata": {
    "id": "bZ6Viv1VuuA9"
   },
   "outputs": [],
   "source": [
    "######\n",
    "\n",
    "# Il manque du code ici !\n",
    "\n",
    "######\n",
    "\n",
    "\n",
    "X_projected"
   ]
  },
  {
   "cell_type": "markdown",
   "metadata": {
    "id": "-CkB67Cj5NB8"
   },
   "source": [
    "Et affichons le tout : "
   ]
  },
  {
   "cell_type": "code",
   "execution_count": null,
   "metadata": {
    "id": "A5JG66ASu2VZ"
   },
   "outputs": [],
   "source": [
    "######\n",
    "\n",
    "# Il manque du code ici !\n",
    "\n",
    "######"
   ]
  },
  {
   "cell_type": "markdown",
   "metadata": {
    "id": "d1RRc4_A5V6U"
   },
   "source": [
    "Même si cela n'est pas très \"visible\", nous avons maintenant 500 groupes de points.\n",
    "\n",
    "Il nous suffit de prendre le point au centre de chaque groupe, ou plutot de chaque cluster. \n",
    "\n",
    "Ces points, ce sont précisement les centroides, et par chance, le k-means de scikit-learn nous permet de les calculer automatiquement grace à la méthode `cluster_centers_` : "
   ]
  },
  {
   "cell_type": "code",
   "execution_count": null,
   "metadata": {
    "id": "EM-A2mrdviCE"
   },
   "outputs": [],
   "source": [
    "######\n",
    "\n",
    "# Il manque du code ici !\n",
    "\n",
    "######\n",
    "\n",
    "centroids"
   ]
  },
  {
   "cell_type": "markdown",
   "metadata": {
    "id": "Mu0e8HL45y2q"
   },
   "source": [
    "On peut vérifier que nous avons bien 500 points et non 5 0000 : "
   ]
  },
  {
   "cell_type": "code",
   "execution_count": null,
   "metadata": {
    "id": "CbxMUTIwv_Xp"
   },
   "outputs": [],
   "source": [
    "centroids.shape"
   ]
  },
  {
   "cell_type": "markdown",
   "metadata": {
    "id": "6dmQOOZS55yB"
   },
   "source": [
    "Il ne nous reste plus qu'à projeter nos points : "
   ]
  },
  {
   "cell_type": "code",
   "execution_count": null,
   "metadata": {
    "id": "wNtfqMnVvy_e"
   },
   "outputs": [],
   "source": [
    "######\n",
    "\n",
    "# Il manque du code ici !\n",
    "\n",
    "######\n",
    "\n",
    "centroids_projected[:10]"
   ]
  },
  {
   "cell_type": "markdown",
   "metadata": {
    "id": "Yse4D2nj6AVa"
   },
   "source": [
    "Nous avons maintenant 500 lignes et 2 colonnes : "
   ]
  },
  {
   "cell_type": "code",
   "execution_count": null,
   "metadata": {
    "id": "xSoGwh6Gv9pd"
   },
   "outputs": [],
   "source": [
    "centroids_projected.shape"
   ]
  },
  {
   "cell_type": "markdown",
   "metadata": {
    "id": "nMNrjwl-6EqV"
   },
   "source": [
    "Et afficher le tout : "
   ]
  },
  {
   "cell_type": "code",
   "execution_count": null,
   "metadata": {
    "id": "Uv5Lh8dOvsyF"
   },
   "outputs": [],
   "source": [
    "######\n",
    "\n",
    "# Il manque du code ici !\n",
    "\n",
    "######"
   ]
  },
  {
   "cell_type": "markdown",
   "metadata": {
    "id": "-DdfqLRY6H4j"
   },
   "source": [
    "Voila ! Notre chat n'est plus aussi *net* que tout à l'heure mais on le reconnait quand même. \n",
    "\n",
    "Gros avantage, nous avons divisé la taille de nos données par 10 !\n",
    "\n",
    "C'est un très bon exemple de réduction de dimension :) "
   ]
  },
  {
   "cell_type": "markdown",
   "metadata": {
    "id": "7bhmM2OaYGtS"
   },
   "source": [
    "# 3 Conclusion "
   ]
  },
  {
   "cell_type": "markdown",
   "metadata": {
    "id": "Xh6hfMruYKr-"
   },
   "source": [
    "Vous êtes arrivé au bout de ce travail, Bravo!\n",
    "\n",
    "Il ne reste plus qu'à vous entrainer sur d'autres jeux de données 😀.\n",
    "\n",
    "<br>\n",
    "\n",
    "------------------\n",
    "\n",
    "<br>"
   ]
  },
  {
   "cell_type": "markdown",
   "metadata": {
    "id": "8n6HNV8iYPTB"
   },
   "source": [
    "En cas de questions, n'hésitez pas à nous adresser vos questions, remarques ou suggestions sur le [formulaire](https://openclassrooms.zendesk.com/hc/fr/requests/new) .\n",
    "\n"
   ]
  }
 ],
 "metadata": {
  "colab": {
   "collapsed_sections": [
    "Lk_sV2tLCC9n"
   ],
   "provenance": []
  },
  "kernelspec": {
   "display_name": "Python 3 (ipykernel)",
   "language": "python",
   "name": "python3"
  },
  "language_info": {
   "codemirror_mode": {
    "name": "ipython",
    "version": 3
   },
   "file_extension": ".py",
   "mimetype": "text/x-python",
   "name": "python",
   "nbconvert_exporter": "python",
   "pygments_lexer": "ipython3",
   "version": "3.9.13"
  }
 },
 "nbformat": 4,
 "nbformat_minor": 1
}
