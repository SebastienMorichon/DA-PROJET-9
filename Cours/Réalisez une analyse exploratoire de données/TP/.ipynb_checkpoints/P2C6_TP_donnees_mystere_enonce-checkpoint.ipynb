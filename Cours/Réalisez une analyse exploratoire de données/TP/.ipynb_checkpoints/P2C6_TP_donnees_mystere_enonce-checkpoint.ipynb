{
 "cells": [
  {
   "cell_type": "markdown",
   "metadata": {
    "id": "ulq65LCU5yX8"
   },
   "source": [
    "# Réalisez une ACP - Le jeu de données mystère - Enoncé"
   ]
  },
  {
   "cell_type": "markdown",
   "metadata": {
    "id": "tWJ8UFzD5yaX"
   },
   "source": [
    "# 1 Preliminary"
   ]
  },
  {
   "cell_type": "markdown",
   "metadata": {
    "id": "v-mHRiO45ycv"
   },
   "source": [
    "## 1.1 Context"
   ]
  },
  {
   "cell_type": "markdown",
   "metadata": {
    "id": "_6oS-JZlxOjk"
   },
   "source": [
    "Ce TP est en lien avec l'activité [Réalisez une ACP](https://openclassrooms.com/fr/courses/4525281-realisez-une-analyse-exploratoire-de-donnees/5345201-tp-realisez-une-acp), de la partie 2 du cours  [Réalisez une analyse exploratoire de données](https://openclassrooms.com/fr/courses/4525281-realisez-une-analyse-exploratoire-de-donnees).\n",
    "\n",
    "Nous allons travailler sur le *jeu de données mystère*.\n",
    "\n",
    "Prenez le temps de bien **lire**, **comprendre** et **tester** le code ci dessous.\n",
    "\n",
    "<br>\n",
    "\n",
    "------------------------------\n",
    "\n",
    "<br>\n",
    "\n",
    "En cas de question, n'hésitez pas à nous adresser vos remarques ou suggestions via ce [lien](https://openclassrooms.zendesk.com/hc/fr/requests/new).\n",
    "\n",
    "<br>\n",
    "\n",
    "-------------------------\n",
    "\n",
    "<br>\n",
    "\n",
    "* version : 0.0.1\n",
    "* last update:  2022-08-03\n",
    "* author : [Alexandre Gazagnes](https://twitter.com/Alex_Gazagnes)\n",
    "\n",
    "<br>"
   ]
  },
  {
   "cell_type": "markdown",
   "metadata": {
    "id": "2gCimqaB5yex"
   },
   "source": [
    "## 1.2 Imports"
   ]
  },
  {
   "cell_type": "markdown",
   "metadata": {
    "id": "97JZ3oUpDLH1"
   },
   "source": [
    "Nous allons importer nos librairies : "
   ]
  },
  {
   "cell_type": "code",
   "execution_count": null,
   "metadata": {
    "id": "GQguJyWL6B5F"
   },
   "outputs": [],
   "source": [
    "######\n",
    "\n",
    "import numpy as np\n",
    "import pandas as pd\n",
    "\n",
    "\n",
    "######\n",
    "\n",
    "import matplotlib.pyplot as plt\n",
    "from matplotlib.collections import LineCollection\n",
    "import seaborn as sns\n",
    "import plotly.express as px"
   ]
  },
  {
   "cell_type": "markdown",
   "metadata": {
    "id": "rlUV1ZAM5yhL"
   },
   "source": [
    "## 1.3 Graphics and Options"
   ]
  },
  {
   "cell_type": "markdown",
   "metadata": {
    "id": "Eh0VdPZtDL9a"
   },
   "source": [
    "On *charge* `seaborn` : "
   ]
  },
  {
   "cell_type": "code",
   "execution_count": null,
   "metadata": {
    "id": "qQfTzavN6CWs"
   },
   "outputs": [],
   "source": [
    "sns.set()"
   ]
  },
  {
   "cell_type": "markdown",
   "metadata": {
    "id": "5JqQ-jddp56n"
   },
   "source": [
    "<link rel=\"stylesheet\" href=\"https://cdn.jsdelivr.net/npm/bootstrap@4.0.0/dist/css/bootstrap.min.css\" integrity=\"sha384-Gn5384xqQ1aoWXA+058RXPxPg6fy4IWvTNh0E263XmFcJlSAwiGgFAW/dAiS6JXm\" crossorigin=\"anonymous\">\n",
    "<script src=\"https://code.jquery.com/jquery-3.2.1.slim.min.js\" integrity=\"sha384-KJ3o2DKtIkvYIK3UENzmM7KCkRr/rE9/Qpg6aAZGJwFDMVNA/GpGFF93hXpG5KkN\" crossorigin=\"anonymous\"></script>\n",
    "<script src=\"https://cdn.jsdelivr.net/npm/popper.js@1.12.9/dist/umd/popper.min.js\" integrity=\"sha384-ApNbgh9B+Y1QKtv3Rn7W3mgPxhU9K/ScQsAP7hUibX39j7fakFPskvXusvfa0b4Q\" crossorigin=\"anonymous\"></script>\n",
    "<script src=\"https://cdn.jsdelivr.net/npm/bootstrap@4.0.0/dist/js/bootstrap.min.js\" integrity=\"sha384-JZR6Spejh4U02d8jOt6vLEHfe/JQGiRRSQQxSfFWpi1MquVdAyjUar5+76PVCmYl\" crossorigin=\"anonymous\"></script>"
   ]
  },
  {
   "cell_type": "markdown",
   "metadata": {
    "id": "phAzAAUg5yjO"
   },
   "source": [
    "## 1.4 Data"
   ]
  },
  {
   "cell_type": "markdown",
   "metadata": {
    "id": "Gwixs0mLDM3y"
   },
   "source": [
    "Nous allons maintenant charger les données. Pour ce faire vous pouvez les retrouver sur cette [page du cours](https://openclassrooms.com/fr/courses/4525281-realisez-une-analyse-exploratoire-de-donnees/5148885-telechargez-les-jeux-de-donnees-analyses-dans-ce-cours).\n",
    "\n",
    "<br>\n",
    "\n",
    "------------------------\n",
    "\n",
    "\n",
    "<br>\n",
    "\n",
    "\n",
    "Si vous utlisez Google Colab et que vous ne savez pas comment importer un fichier .csv, voici une [vidéo](https://youtu.be/6HFlwqK3oeo?t=171) à regarder à partir de 2:53\n",
    "\n",
    "<br>\n",
    "\n",
    "-------------------------------------\n",
    "\n",
    "<br>\n",
    "\n",
    "\n",
    "Importons notre fichier : "
   ]
  },
  {
   "cell_type": "code",
   "execution_count": null,
   "metadata": {
    "id": "nuOlaufp6CwR"
   },
   "outputs": [],
   "source": [
    "######\n",
    "\n",
    "# Il manque du code !\n",
    "\n",
    "######"
   ]
  },
  {
   "cell_type": "markdown",
   "metadata": {
    "id": "vJvRBlVolgMq"
   },
   "source": [
    "## 1.5 Functions"
   ]
  },
  {
   "cell_type": "markdown",
   "metadata": {
    "id": "wKKf6PO4ljv2"
   },
   "source": [
    "Nous allons copier - coller les fonctions de notre précédent notebook.\n",
    "\n",
    "Ces fonctions sont assez complexes. Je ne vous demande pas de les comprendre de A à Z. Essayez juste de les lire à la volée pour voir si vous les comprenez.\n",
    "\n",
    "Si vous ne comprenez pas tout, encore une fois, cela n'est pas grave.\n"
   ]
  },
  {
   "cell_type": "markdown",
   "metadata": {
    "id": "krH1sylh7azT"
   },
   "source": [
    "Pour le graphe des correlations : "
   ]
  },
  {
   "cell_type": "code",
   "execution_count": null,
   "metadata": {
    "id": "9h47C4DJlifC"
   },
   "outputs": [],
   "source": [
    "######\n",
    "\n",
    "# Il manque du code !\n",
    "\n",
    "######"
   ]
  },
  {
   "cell_type": "markdown",
   "metadata": {
    "id": "rvpQ-SfU7e9v"
   },
   "source": [
    "Pour les plans factoriels : "
   ]
  },
  {
   "cell_type": "code",
   "execution_count": null,
   "metadata": {
    "id": "y6yObZKildKX"
   },
   "outputs": [],
   "source": [
    "######\n",
    "\n",
    "# Il manque du code !\n",
    "\n",
    "######"
   ]
  },
  {
   "cell_type": "markdown",
   "metadata": {
    "id": "nlsspMOEDYkL"
   },
   "source": [
    "Si vous avez vu des choses bizarres dans le code, pas de soucis, supprimez les lignes en question !"
   ]
  },
  {
   "cell_type": "markdown",
   "metadata": {
    "id": "3W8KOXQO5ypf"
   },
   "source": [
    "# 2 Data Preparation"
   ]
  },
  {
   "cell_type": "markdown",
   "metadata": {
    "id": "jLItqV7XDhiR"
   },
   "source": [
    "Avant de nous jeter dans le grand bain, nous allons devoir étudier et préparer un peu le terrain."
   ]
  },
  {
   "cell_type": "markdown",
   "metadata": {
    "id": "GbAAA1hl9tvo"
   },
   "source": [
    "## 2.1 Quick tour"
   ]
  },
  {
   "cell_type": "markdown",
   "metadata": {
    "id": "zNkwWo5ODoOO"
   },
   "source": [
    "Tout d'abord faisons un rapide tour de nos données. Commencons par les afficher : "
   ]
  },
  {
   "cell_type": "code",
   "execution_count": null,
   "metadata": {
    "id": "FoH7DT_69vYi"
   },
   "outputs": [],
   "source": [
    "######\n",
    "\n",
    "# Il manque du code !\n",
    "\n",
    "######"
   ]
  },
  {
   "cell_type": "code",
   "execution_count": null,
   "metadata": {
    "id": "ZB9bktAO9whM"
   },
   "outputs": [],
   "source": [
    "######\n",
    "\n",
    "# Il manque du code !\n",
    "\n",
    "######"
   ]
  },
  {
   "cell_type": "markdown",
   "metadata": {
    "id": "B1TCCVMiDvup"
   },
   "source": [
    "Quelle est la dimension de notre dataframe? "
   ]
  },
  {
   "cell_type": "code",
   "execution_count": null,
   "metadata": {
    "colab": {
     "base_uri": "https://localhost:8080/",
     "height": 170
    },
    "id": "Qj6jjInk9xX0",
    "outputId": "4b1cd704-3b08-45ef-c6db-4cd7902b0fbe"
   },
   "outputs": [
    {
     "ename": "NameError",
     "evalue": "ignored",
     "output_type": "error",
     "traceback": [
      "\u001b[0;31m---------------------------------------------------------------------------\u001b[0m",
      "\u001b[0;31mNameError\u001b[0m                                 Traceback (most recent call last)",
      "\u001b[0;32m<ipython-input-8-633337079cd0>\u001b[0m in \u001b[0;36m<module>\u001b[0;34m()\u001b[0m\n\u001b[0;32m----> 1\u001b[0;31m \u001b[0mdf\u001b[0m\u001b[0;34m.\u001b[0m\u001b[0mshape\u001b[0m\u001b[0;34m\u001b[0m\u001b[0;34m\u001b[0m\u001b[0m\n\u001b[0m",
      "\u001b[0;31mNameError\u001b[0m: name 'df' is not defined"
     ]
    }
   ],
   "source": [
    "df.shape"
   ]
  },
  {
   "cell_type": "markdown",
   "metadata": {
    "id": "jXSudJ3rDu9N"
   },
   "source": [
    "La méthode `info` nous donne des indications globales : "
   ]
  },
  {
   "cell_type": "code",
   "execution_count": null,
   "metadata": {
    "id": "Wnzh1nbI9zEC"
   },
   "outputs": [],
   "source": [
    "df.info()"
   ]
  },
  {
   "cell_type": "markdown",
   "metadata": {
    "id": "NPvmwuYRD6Ep"
   },
   "source": [
    "Quel est le % de valeurs manquantes par colonne ? "
   ]
  },
  {
   "cell_type": "code",
   "execution_count": null,
   "metadata": {
    "id": "nS08CAZI90md"
   },
   "outputs": [],
   "source": [
    "######\n",
    "\n",
    "# Il manque du code !\n",
    "\n",
    "######"
   ]
  },
  {
   "cell_type": "markdown",
   "metadata": {
    "id": "KhcLscVND96u"
   },
   "source": [
    "Y a-t-il des lignes en double ? "
   ]
  },
  {
   "cell_type": "code",
   "execution_count": null,
   "metadata": {
    "id": "QFtmUC7B96Tt"
   },
   "outputs": [],
   "source": [
    "df.duplicated().sum()"
   ]
  },
  {
   "cell_type": "markdown",
   "metadata": {
    "id": "wPxEnq7cEBEs"
   },
   "source": [
    "Combien y a-t-il de valeurs différentes par colonne ? "
   ]
  },
  {
   "cell_type": "code",
   "execution_count": null,
   "metadata": {
    "id": "F-trAkxw92pn"
   },
   "outputs": [],
   "source": [
    "df.nunique()"
   ]
  },
  {
   "cell_type": "markdown",
   "metadata": {
    "id": "EzJEgmTjEH3I"
   },
   "source": [
    "Enfin la methode `describe` nous donne une idée de la dispertion globale de nos données : "
   ]
  },
  {
   "cell_type": "markdown",
   "metadata": {
    "id": "hxS5eGfXpsQm"
   },
   "source": [
    "Le dataframe est assez simple, pas de nettoyage à faire. Tant mieux!"
   ]
  },
  {
   "cell_type": "markdown",
   "metadata": {
    "id": "5wgpfsxp8RtC"
   },
   "source": [
    "# 3 About PCA"
   ]
  },
  {
   "cell_type": "markdown",
   "metadata": {
    "id": "rIrXSzv9tINn"
   },
   "source": [
    "## 3.1 Scaling"
   ]
  },
  {
   "cell_type": "markdown",
   "metadata": {
    "id": "0xWiB6CIt1Cg"
   },
   "source": [
    "Nous allons effectuer notre scaling. Attention toutefois, réduire n'est ici pas nécessaire car les variables sont exprimées dans la même unité. \n",
    "\n",
    "On se contente juste de centrer les données, ce qui est obligatoire pour une ACP.\n",
    "\n",
    "Pour ce faire, on peut utiliser l'argument `with_std=False` : "
   ]
  },
  {
   "cell_type": "code",
   "execution_count": null,
   "metadata": {
    "id": "m09Sl98ftIdO"
   },
   "outputs": [],
   "source": [
    "scaler = StandardScaler(with_std=False)\n",
    "scaler"
   ]
  },
  {
   "cell_type": "markdown",
   "metadata": {
    "id": "ZIMBhBmCtIoa"
   },
   "source": [
    "On fit : "
   ]
  },
  {
   "cell_type": "code",
   "execution_count": null,
   "metadata": {
    "id": "Ot5-WVEmtI1d"
   },
   "outputs": [],
   "source": [
    "######\n",
    "\n",
    "# Il manque du code !\n",
    "\n",
    "######"
   ]
  },
  {
   "cell_type": "markdown",
   "metadata": {
    "id": "C5H7YYgTtJAA"
   },
   "source": [
    "On transforme : "
   ]
  },
  {
   "cell_type": "code",
   "execution_count": null,
   "metadata": {
    "id": "CeSpK1mJtJLt"
   },
   "outputs": [],
   "source": [
    "######\n",
    "\n",
    "# Il manque du code !\n",
    "\n",
    "######"
   ]
  },
  {
   "cell_type": "markdown",
   "metadata": {
    "id": "gmeU74ml8fI4"
   },
   "source": [
    "## 3.2 PCA"
   ]
  },
  {
   "cell_type": "markdown",
   "metadata": {
    "id": "KQTyHvZwGHis"
   },
   "source": [
    "Nous allons travailler sur les 3 composantes : "
   ]
  },
  {
   "cell_type": "code",
   "execution_count": null,
   "metadata": {
    "id": "5ils1o5f8X4Q"
   },
   "outputs": [],
   "source": [
    "n_components = 3"
   ]
  },
  {
   "cell_type": "markdown",
   "metadata": {
    "id": "qcDjEWLZGK86"
   },
   "source": [
    "On instancie notre ACP : "
   ]
  },
  {
   "cell_type": "code",
   "execution_count": null,
   "metadata": {
    "id": "-5-8Ujeb8ZNr"
   },
   "outputs": [],
   "source": [
    "######\n",
    "\n",
    "# Il manque du code !\n",
    "\n",
    "######"
   ]
  },
  {
   "cell_type": "markdown",
   "metadata": {
    "id": "mnU1sDZvGOo6"
   },
   "source": [
    "On l'entraine : "
   ]
  },
  {
   "cell_type": "code",
   "execution_count": null,
   "metadata": {
    "id": "DTjhlLiL-l7U"
   },
   "outputs": [],
   "source": [
    "######\n",
    "\n",
    "# Il manque du code !\n",
    "\n",
    "######"
   ]
  },
  {
   "cell_type": "markdown",
   "metadata": {
    "id": "djz1GD-l8hif"
   },
   "source": [
    "## 3.3 Explained variance & scree plot"
   ]
  },
  {
   "cell_type": "markdown",
   "metadata": {
    "id": "4n5P_EQfGVPn"
   },
   "source": [
    "Intéressons nous maintenant à la variance *captée* par chaque nouvelle composante. Grace à `scikit-learn` on peut utiliser l'attribut `explained_variance_ratio_` : "
   ]
  },
  {
   "cell_type": "code",
   "execution_count": null,
   "metadata": {
    "id": "MfvlVuch-t2J"
   },
   "outputs": [],
   "source": [
    "pca.explained_variance_ratio_"
   ]
  },
  {
   "cell_type": "markdown",
   "metadata": {
    "id": "P9_KYj-NGioD"
   },
   "source": [
    "Ici la 1ère composante *capte* 75% de la variance de nos données initiales, la 2ème 20% etc etc."
   ]
  },
  {
   "cell_type": "markdown",
   "metadata": {
    "id": "RtN1h3QPGtYe"
   },
   "source": [
    "Enregistrons cela dans une variable : "
   ]
  },
  {
   "cell_type": "code",
   "execution_count": null,
   "metadata": {
    "id": "FWcHhdOF8i4_"
   },
   "outputs": [],
   "source": [
    "######\n",
    "\n",
    "# Il manque du code !\n",
    "\n",
    "######"
   ]
  },
  {
   "cell_type": "markdown",
   "metadata": {
    "id": "_Ah1nBAFGwht"
   },
   "source": [
    "Les 2 premières composantes *captent* - à elles seules -  `75+20 = 95%` de la variance!!!\n",
    "\n",
    "Dans le jargon, cela s'appelle une *somme cumulée*. Et pour faire une somme cumulée `numpy`dispose de la fonction `cumsum` : "
   ]
  },
  {
   "cell_type": "code",
   "execution_count": null,
   "metadata": {
    "id": "wTNKE3Iu8l7w"
   },
   "outputs": [],
   "source": [
    "######\n",
    "\n",
    "# Il manque du code !\n",
    "\n",
    "######"
   ]
  },
  {
   "cell_type": "markdown",
   "metadata": {
    "id": "Azu71-QcHMdg"
   },
   "source": [
    "Définisions ensuite une variable avec la liste de nos composantes : "
   ]
  },
  {
   "cell_type": "code",
   "execution_count": null,
   "metadata": {
    "id": "ZvVsOwIr_HH-"
   },
   "outputs": [],
   "source": [
    "x_list = range(1, n_components+1)\n",
    "list(x_list)"
   ]
  },
  {
   "cell_type": "markdown",
   "metadata": {
    "id": "mOrtj3uCHUJh"
   },
   "source": [
    "On peut enfin l'afficher de façon graphique : "
   ]
  },
  {
   "cell_type": "code",
   "execution_count": null,
   "metadata": {
    "id": "7tFT1tvS8jVF"
   },
   "outputs": [],
   "source": [
    "######\n",
    "\n",
    "# Il manque du code !\n",
    "\n",
    "######"
   ]
  },
  {
   "cell_type": "markdown",
   "metadata": {
    "id": "Rnv5i4QyYpWk"
   },
   "source": [
    "On a en bleu la variance de chaque nouvelle composante, et en rouge la variance cumulée."
   ]
  },
  {
   "cell_type": "markdown",
   "metadata": {
    "id": "mwpCEeloHeQO"
   },
   "source": [
    "On voit ici que près de 95% de la variance est comprise dans les 2 premières composantes. En clair, la 3e composante n'est pas très *utile*..."
   ]
  },
  {
   "cell_type": "markdown",
   "metadata": {
    "id": "URbdIMsj8zWl"
   },
   "source": [
    "## 3.4 Components"
   ]
  },
  {
   "cell_type": "markdown",
   "metadata": {
    "id": "VsVg2hSwHreN"
   },
   "source": [
    "Intéressons nous maintenant à nos fameuses composantes. Nous avons dit dans le cours que c'est bien par un calcul que l'on obtient ces composantes. \n",
    "\n",
    "La formule de ce calcul nous est donnée par l'attribut `components_`. Cette variable est généralement nommée `pcs` : "
   ]
  },
  {
   "cell_type": "code",
   "execution_count": null,
   "metadata": {
    "id": "GSxN5_aA81fn"
   },
   "outputs": [],
   "source": [
    "######\n",
    "\n",
    "# Il manque du code !\n",
    "\n",
    "######"
   ]
  },
  {
   "cell_type": "markdown",
   "metadata": {
    "id": "7JbXWzNWIBSK"
   },
   "source": [
    "Affichons la même chose mais version `pandas` : "
   ]
  },
  {
   "cell_type": "code",
   "execution_count": null,
   "metadata": {
    "id": "HLYtZl7z_kk5"
   },
   "outputs": [],
   "source": [
    "pcs = pd.DataFrame(pcs)\n",
    "pcs"
   ]
  },
  {
   "cell_type": "markdown",
   "metadata": {
    "id": "0xd0uKUeIINc"
   },
   "source": [
    "Intéressant... Mais pas encore très clair...\n",
    "Continuons le travail : "
   ]
  },
  {
   "cell_type": "code",
   "execution_count": null,
   "metadata": {
    "id": "Kja0sm4N_bUm"
   },
   "outputs": [],
   "source": [
    "pcs.columns = df.columns\n",
    "pcs.index = [f\"F{i}\" for i in x_list]\n",
    "pcs.round(2)"
   ]
  },
  {
   "cell_type": "markdown",
   "metadata": {
    "id": "vLefXSAjIO6B"
   },
   "source": [
    "De mieux en mieux !  \n",
    "\n",
    "-- **ATTENTION** -- : Nous avons arrondi les résultats pour simplifier l'analyse :) "
   ]
  },
  {
   "cell_type": "markdown",
   "metadata": {
    "id": "q2cmDfhfKJJA"
   },
   "source": [
    "\n",
    "\n",
    "Alors, comment calcule t-on la première composante `F1` ? \n",
    "\n",
    "et bien c'est assez simple :\n",
    "\n",
    "`F1 = (0.16 * x) + (-0.99 * y) + (0.02 * z)`\n",
    "\n",
    "et F2 ?\n",
    "\n",
    "`F2 = (-0.06 * x) + (-0.01 * y) + (-1.0 * z)`\n",
    "\n",
    "**Eureka !**\n"
   ]
  },
  {
   "cell_type": "markdown",
   "metadata": {
    "id": "tRTwCH7TKKni"
   },
   "source": [
    "\n",
    "Dans certains cas, on voudra afficher ce dataframe comme cela : "
   ]
  },
  {
   "cell_type": "code",
   "execution_count": null,
   "metadata": {
    "id": "yyavxCt8_-V8"
   },
   "outputs": [],
   "source": [
    "pcs.T"
   ]
  },
  {
   "cell_type": "markdown",
   "metadata": {
    "id": "_qUlQTnwJh1Y"
   },
   "source": [
    "Et pour une représentation plus *visuelle*, comme cela : "
   ]
  },
  {
   "cell_type": "code",
   "execution_count": null,
   "metadata": {
    "id": "P2l7uuOWAA18"
   },
   "outputs": [],
   "source": [
    "######\n",
    "\n",
    "# Il manque du code !\n",
    "\n",
    "######"
   ]
  },
  {
   "cell_type": "markdown",
   "metadata": {
    "id": "gu1QHTSx2Sfh"
   },
   "source": [
    "A ce stade, on sait déja que :  \n",
    "* `F1+F2 =95%` de la variance.\n",
    "* `F1 = -y + 'un peu' de x` et `F2 = z`"
   ]
  },
  {
   "cell_type": "markdown",
   "metadata": {
    "id": "DzhDQbYpApUZ"
   },
   "source": [
    "## 3.5 Correlation graph"
   ]
  },
  {
   "cell_type": "markdown",
   "metadata": {
    "id": "RLQf6BFVU980"
   },
   "source": [
    "Pour la partie graphique, nous allons utiliser les fonctions vues dans la section 1.5.\n",
    "\n"
   ]
  },
  {
   "cell_type": "markdown",
   "metadata": {
    "id": "y6DT05G_VNFg"
   },
   "source": [
    "Définissons nos axes x et y. Nous allons utiliser les 2 premières composantes. Comme - en code - on commence à compter à partir de 0, cela nous donne : "
   ]
  },
  {
   "cell_type": "code",
   "execution_count": null,
   "metadata": {
    "id": "R0G29uPXWJk2"
   },
   "outputs": [],
   "source": [
    "x, y = 0,1"
   ]
  },
  {
   "cell_type": "code",
   "execution_count": null,
   "metadata": {
    "id": "9yv43xrZXjJu"
   },
   "outputs": [],
   "source": [
    "######\n",
    "\n",
    "# Il manque du code !\n",
    "\n",
    "######"
   ]
  },
  {
   "cell_type": "markdown",
   "metadata": {
    "id": "tF-BduM428bu"
   },
   "source": [
    "Conclusion : F1 est principalement composée de -y et F2 de -z."
   ]
  },
  {
   "cell_type": "markdown",
   "metadata": {
    "id": "8Tp0xPNnZyUC"
   },
   "source": [
    "## 3.6 Projection"
   ]
  },
  {
   "cell_type": "markdown",
   "metadata": {
    "id": "fSN-ysrUapCJ"
   },
   "source": [
    "Travaillons maintenant sur la projection de nos dimensions. Tout d'abord calculons les coordonnées de nos individus dans le nouvel espace : "
   ]
  },
  {
   "cell_type": "code",
   "execution_count": null,
   "metadata": {
    "id": "XTefDhHfBOS4"
   },
   "outputs": [],
   "source": [
    "######\n",
    "\n",
    "# Il manque du code !\n",
    "\n",
    "######"
   ]
  },
  {
   "cell_type": "markdown",
   "metadata": {
    "id": "S6NUOHI53MmR"
   },
   "source": [
    "On rappelle que : "
   ]
  },
  {
   "cell_type": "code",
   "execution_count": null,
   "metadata": {
    "id": "YV6wSluwawMU"
   },
   "outputs": [],
   "source": [
    "x, y"
   ]
  },
  {
   "cell_type": "code",
   "execution_count": null,
   "metadata": {
    "id": "aarNYv5PB0l_"
   },
   "outputs": [],
   "source": [
    "x_y = x, y\n",
    "x_y"
   ]
  },
  {
   "cell_type": "markdown",
   "metadata": {
    "id": "x4DQx8ECcoj1"
   },
   "source": [
    "Essayons avec F1 et F2 : "
   ]
  },
  {
   "cell_type": "code",
   "execution_count": null,
   "metadata": {
    "id": "IMMKS92ab6Z8"
   },
   "outputs": [],
   "source": [
    "######\n",
    "\n",
    "# Il manque du code !\n",
    "\n",
    "######"
   ]
  },
  {
   "cell_type": "markdown",
   "metadata": {
    "id": "91EyjwUF3VQr"
   },
   "source": [
    "Ohhhh ... Un chat ! "
   ]
  },
  {
   "cell_type": "markdown",
   "metadata": {
    "id": "jbBVLXtYdF-A"
   },
   "source": [
    "Essayons avec F1 et F3 : "
   ]
  },
  {
   "cell_type": "code",
   "execution_count": null,
   "metadata": {
    "id": "f9N1my2BaED2"
   },
   "outputs": [],
   "source": [
    "x_y = [0,2]\n",
    "\n",
    "######\n",
    "\n",
    "# Il manque du code !\n",
    "\n",
    "######"
   ]
  },
  {
   "cell_type": "markdown",
   "metadata": {
    "id": "NW46mD5t3xrC"
   },
   "source": [
    "Un chat vue de dessous ? "
   ]
  },
  {
   "cell_type": "code",
   "execution_count": null,
   "metadata": {
    "id": "xJH-VJ_HCZO8"
   },
   "outputs": [],
   "source": [
    "x_y = [1,2]\n",
    "\n",
    "######\n",
    "\n",
    "# Il manque du code !\n",
    "\n",
    "######"
   ]
  },
  {
   "cell_type": "markdown",
   "metadata": {
    "id": "uzkewa-M322y"
   },
   "source": [
    "Un chat vue de derrière ? "
   ]
  },
  {
   "cell_type": "markdown",
   "metadata": {
    "id": "sZ704y88w0u3"
   },
   "source": [
    "## 3.7 Bonus"
   ]
  },
  {
   "cell_type": "markdown",
   "metadata": {
    "id": "yyMuVt8H4G2H"
   },
   "source": [
    "Je vous laisse avec un petit bonus. Nous allons utiliser la librairie `plotly` pour faire un affichage en 3 dimensions : "
   ]
  },
  {
   "cell_type": "code",
   "execution_count": null,
   "metadata": {
    "id": "zS6BZPIAvn-5"
   },
   "outputs": [],
   "source": [
    "fig = px.scatter_3d(df, x='x', y='y', z='z', opacity=0.3)\n",
    "fig.show()"
   ]
  },
  {
   "cell_type": "markdown",
   "metadata": {
    "id": "7fU_0FGA4Zkx"
   },
   "source": [
    "Passez votre souris sur l'image, vous pourrez zoomer, dézoomer, décaller les axes etc etc.\n",
    "\n",
    "Magique non ? \n",
    "\n",
    "\n",
    "Pour en savoir plus, c'est par [ici](https://plotly.com/python/)."
   ]
  },
  {
   "cell_type": "markdown",
   "metadata": {
    "id": "LG4P9_Erw8WS"
   },
   "source": [
    "# 4 Conclusion"
   ]
  },
  {
   "cell_type": "markdown",
   "metadata": {
    "id": "NScWbqigxA31"
   },
   "source": [
    "Vous êtes arrivé au bout de ce travail, Bravo!\n",
    "\n",
    "Il ne reste plus qu'à vous entrainer sur d'autres jeux de données :) "
   ]
  },
  {
   "cell_type": "markdown",
   "metadata": {
    "id": "uIVhdN26w-rr"
   },
   "source": [
    "En cas de questions, n'hésitez pas à nous adresser vos questions, remarques ou suggestions sur le [formulaire](https://openclassrooms.zendesk.com/hc/fr/requests/new) .\n",
    "\n"
   ]
  }
 ],
 "metadata": {
  "colab": {
   "provenance": []
  },
  "kernelspec": {
   "display_name": "Python 3 (ipykernel)",
   "language": "python",
   "name": "python3"
  },
  "language_info": {
   "codemirror_mode": {
    "name": "ipython",
    "version": 3
   },
   "file_extension": ".py",
   "mimetype": "text/x-python",
   "name": "python",
   "nbconvert_exporter": "python",
   "pygments_lexer": "ipython3",
   "version": "3.9.13"
  }
 },
 "nbformat": 4,
 "nbformat_minor": 1
}
